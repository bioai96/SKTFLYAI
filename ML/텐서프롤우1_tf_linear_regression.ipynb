{
  "cells": [
    {
      "cell_type": "markdown",
      "metadata": {
        "id": "view-in-github",
        "colab_type": "text"
      },
      "source": [
        "<a href=\"https://colab.research.google.com/github/bioai96/SKTFLYAI/blob/main/ML/%ED%85%90%EC%84%9C%ED%94%84%EB%A1%A4%EC%9A%B01_tf_linear_regression.ipynb\" target=\"_parent\"><img src=\"https://colab.research.google.com/assets/colab-badge.svg\" alt=\"Open In Colab\"/></a>"
      ]
    },
    {
      "cell_type": "markdown",
      "id": "e699b3f9-fd73-4dc5-aef8-a668d8ceda7b",
      "metadata": {
        "id": "e699b3f9-fd73-4dc5-aef8-a668d8ceda7b"
      },
      "source": [
        "# 주제 : 단순 선형회귀 (Simple Linear Regression)\n",
        "---"
      ]
    },
    {
      "cell_type": "markdown",
      "id": "545b8d29-97fa-449d-858a-737ca142deab",
      "metadata": {
        "id": "545b8d29-97fa-449d-858a-737ca142deab"
      },
      "source": [
        "Tensorflow의 기능을 이용하여, 선형회귀를 구현한다"
      ]
    },
    {
      "cell_type": "markdown",
      "id": "03a5c59b-66a7-43f0-9660-f33b7b6d3251",
      "metadata": {
        "id": "03a5c59b-66a7-43f0-9660-f33b7b6d3251"
      },
      "source": [
        "### 문제 0. 라이브러리"
      ]
    },
    {
      "cell_type": "code",
      "execution_count": 2,
      "id": "ddd862bd-20cb-4e0b-a4aa-57d341549002",
      "metadata": {
        "id": "ddd862bd-20cb-4e0b-a4aa-57d341549002"
      },
      "outputs": [],
      "source": [
        "import numpy as np \n",
        "import pandas as pd \n",
        "import matplotlib.pyplot as plt\n",
        "\n",
        "import warnings \n",
        "warnings.filterwarnings(action='ignore')"
      ]
    },
    {
      "cell_type": "markdown",
      "id": "9af0247f-bd67-41b3-aebc-81d77aa92435",
      "metadata": {
        "id": "9af0247f-bd67-41b3-aebc-81d77aa92435"
      },
      "source": [
        "### 문제 1. 텐서플로우 버전 확인"
      ]
    },
    {
      "cell_type": "code",
      "execution_count": 3,
      "id": "bab444e3-07e5-498c-8f43-c42e3b01e490",
      "metadata": {
        "id": "bab444e3-07e5-498c-8f43-c42e3b01e490",
        "colab": {
          "base_uri": "https://localhost:8080/"
        },
        "outputId": "582d51a9-39fc-4775-8b20-cc17cfcdf08f"
      },
      "outputs": [
        {
          "output_type": "stream",
          "name": "stdout",
          "text": [
            "2.8.2\n"
          ]
        }
      ],
      "source": [
        "import tensorflow as tf\n",
        "\n",
        "print(tf.__version__)"
      ]
    },
    {
      "cell_type": "code",
      "execution_count": 4,
      "id": "36f6c0e4-4039-4b69-ac60-3bc131158980",
      "metadata": {
        "id": "36f6c0e4-4039-4b69-ac60-3bc131158980",
        "colab": {
          "base_uri": "https://localhost:8080/",
          "height": 1000
        },
        "outputId": "98598a95-9e29-4e00-a5fd-c11d192add58"
      },
      "outputs": [
        {
          "output_type": "stream",
          "name": "stdout",
          "text": [
            "Looking in indexes: https://pypi.org/simple, https://us-python.pkg.dev/colab-wheels/public/simple/\n",
            "Requirement already satisfied: tensorflow in /usr/local/lib/python3.7/dist-packages (2.8.2+zzzcolab20220719082949)\n",
            "Collecting tensorflow\n",
            "  Downloading tensorflow-2.9.1-cp37-cp37m-manylinux_2_17_x86_64.manylinux2014_x86_64.whl (511.7 MB)\n",
            "\u001b[K     |████████████████████████████████| 511.7 MB 6.0 kB/s \n",
            "\u001b[?25hCollecting gast<=0.4.0,>=0.2.1\n",
            "  Downloading gast-0.4.0-py3-none-any.whl (9.8 kB)\n",
            "Requirement already satisfied: wrapt>=1.11.0 in /usr/local/lib/python3.7/dist-packages (from tensorflow) (1.14.1)\n",
            "Requirement already satisfied: google-pasta>=0.1.1 in /usr/local/lib/python3.7/dist-packages (from tensorflow) (0.2.0)\n",
            "Collecting tensorboard<2.10,>=2.9\n",
            "  Downloading tensorboard-2.9.1-py3-none-any.whl (5.8 MB)\n",
            "\u001b[K     |████████████████████████████████| 5.8 MB 60.2 MB/s \n",
            "\u001b[?25hRequirement already satisfied: libclang>=13.0.0 in /usr/local/lib/python3.7/dist-packages (from tensorflow) (14.0.1)\n",
            "Collecting tensorflow-estimator<2.10.0,>=2.9.0rc0\n",
            "  Downloading tensorflow_estimator-2.9.0-py2.py3-none-any.whl (438 kB)\n",
            "\u001b[K     |████████████████████████████████| 438 kB 63.3 MB/s \n",
            "\u001b[?25hCollecting flatbuffers<2,>=1.12\n",
            "  Downloading flatbuffers-1.12-py2.py3-none-any.whl (15 kB)\n",
            "Requirement already satisfied: keras-preprocessing>=1.1.1 in /usr/local/lib/python3.7/dist-packages (from tensorflow) (1.1.2)\n",
            "Collecting keras<2.10.0,>=2.9.0rc0\n",
            "  Downloading keras-2.9.0-py2.py3-none-any.whl (1.6 MB)\n",
            "\u001b[K     |████████████████████████████████| 1.6 MB 58.9 MB/s \n",
            "\u001b[?25hRequirement already satisfied: protobuf<3.20,>=3.9.2 in /usr/local/lib/python3.7/dist-packages (from tensorflow) (3.17.3)\n",
            "Requirement already satisfied: absl-py>=1.0.0 in /usr/local/lib/python3.7/dist-packages (from tensorflow) (1.2.0)\n",
            "Requirement already satisfied: tensorflow-io-gcs-filesystem>=0.23.1 in /usr/local/lib/python3.7/dist-packages (from tensorflow) (0.26.0)\n",
            "Requirement already satisfied: typing-extensions>=3.6.6 in /usr/local/lib/python3.7/dist-packages (from tensorflow) (4.1.1)\n",
            "Requirement already satisfied: termcolor>=1.1.0 in /usr/local/lib/python3.7/dist-packages (from tensorflow) (1.1.0)\n",
            "Requirement already satisfied: six>=1.12.0 in /usr/local/lib/python3.7/dist-packages (from tensorflow) (1.15.0)\n",
            "Requirement already satisfied: h5py>=2.9.0 in /usr/local/lib/python3.7/dist-packages (from tensorflow) (3.1.0)\n",
            "Requirement already satisfied: grpcio<2.0,>=1.24.3 in /usr/local/lib/python3.7/dist-packages (from tensorflow) (1.47.0)\n",
            "Requirement already satisfied: numpy>=1.20 in /usr/local/lib/python3.7/dist-packages (from tensorflow) (1.21.6)\n",
            "Requirement already satisfied: packaging in /usr/local/lib/python3.7/dist-packages (from tensorflow) (21.3)\n",
            "Requirement already satisfied: setuptools in /usr/local/lib/python3.7/dist-packages (from tensorflow) (57.4.0)\n",
            "Requirement already satisfied: opt-einsum>=2.3.2 in /usr/local/lib/python3.7/dist-packages (from tensorflow) (3.3.0)\n",
            "Requirement already satisfied: astunparse>=1.6.0 in /usr/local/lib/python3.7/dist-packages (from tensorflow) (1.6.3)\n",
            "Requirement already satisfied: wheel<1.0,>=0.23.0 in /usr/local/lib/python3.7/dist-packages (from astunparse>=1.6.0->tensorflow) (0.37.1)\n",
            "Requirement already satisfied: cached-property in /usr/local/lib/python3.7/dist-packages (from h5py>=2.9.0->tensorflow) (1.5.2)\n",
            "Requirement already satisfied: markdown>=2.6.8 in /usr/local/lib/python3.7/dist-packages (from tensorboard<2.10,>=2.9->tensorflow) (3.4.1)\n",
            "Requirement already satisfied: werkzeug>=1.0.1 in /usr/local/lib/python3.7/dist-packages (from tensorboard<2.10,>=2.9->tensorflow) (1.0.1)\n",
            "Requirement already satisfied: google-auth-oauthlib<0.5,>=0.4.1 in /usr/local/lib/python3.7/dist-packages (from tensorboard<2.10,>=2.9->tensorflow) (0.4.6)\n",
            "Requirement already satisfied: google-auth<3,>=1.6.3 in /usr/local/lib/python3.7/dist-packages (from tensorboard<2.10,>=2.9->tensorflow) (1.35.0)\n",
            "Requirement already satisfied: tensorboard-plugin-wit>=1.6.0 in /usr/local/lib/python3.7/dist-packages (from tensorboard<2.10,>=2.9->tensorflow) (1.8.1)\n",
            "Requirement already satisfied: tensorboard-data-server<0.7.0,>=0.6.0 in /usr/local/lib/python3.7/dist-packages (from tensorboard<2.10,>=2.9->tensorflow) (0.6.1)\n",
            "Requirement already satisfied: requests<3,>=2.21.0 in /usr/local/lib/python3.7/dist-packages (from tensorboard<2.10,>=2.9->tensorflow) (2.23.0)\n",
            "Requirement already satisfied: pyasn1-modules>=0.2.1 in /usr/local/lib/python3.7/dist-packages (from google-auth<3,>=1.6.3->tensorboard<2.10,>=2.9->tensorflow) (0.2.8)\n",
            "Requirement already satisfied: cachetools<5.0,>=2.0.0 in /usr/local/lib/python3.7/dist-packages (from google-auth<3,>=1.6.3->tensorboard<2.10,>=2.9->tensorflow) (4.2.4)\n",
            "Requirement already satisfied: rsa<5,>=3.1.4 in /usr/local/lib/python3.7/dist-packages (from google-auth<3,>=1.6.3->tensorboard<2.10,>=2.9->tensorflow) (4.9)\n",
            "Requirement already satisfied: requests-oauthlib>=0.7.0 in /usr/local/lib/python3.7/dist-packages (from google-auth-oauthlib<0.5,>=0.4.1->tensorboard<2.10,>=2.9->tensorflow) (1.3.1)\n",
            "Requirement already satisfied: importlib-metadata>=4.4 in /usr/local/lib/python3.7/dist-packages (from markdown>=2.6.8->tensorboard<2.10,>=2.9->tensorflow) (4.12.0)\n",
            "Requirement already satisfied: zipp>=0.5 in /usr/local/lib/python3.7/dist-packages (from importlib-metadata>=4.4->markdown>=2.6.8->tensorboard<2.10,>=2.9->tensorflow) (3.8.1)\n",
            "Requirement already satisfied: pyasn1<0.5.0,>=0.4.6 in /usr/local/lib/python3.7/dist-packages (from pyasn1-modules>=0.2.1->google-auth<3,>=1.6.3->tensorboard<2.10,>=2.9->tensorflow) (0.4.8)\n",
            "Requirement already satisfied: chardet<4,>=3.0.2 in /usr/local/lib/python3.7/dist-packages (from requests<3,>=2.21.0->tensorboard<2.10,>=2.9->tensorflow) (3.0.4)\n",
            "Requirement already satisfied: certifi>=2017.4.17 in /usr/local/lib/python3.7/dist-packages (from requests<3,>=2.21.0->tensorboard<2.10,>=2.9->tensorflow) (2022.6.15)\n",
            "Requirement already satisfied: urllib3!=1.25.0,!=1.25.1,<1.26,>=1.21.1 in /usr/local/lib/python3.7/dist-packages (from requests<3,>=2.21.0->tensorboard<2.10,>=2.9->tensorflow) (1.24.3)\n",
            "Requirement already satisfied: idna<3,>=2.5 in /usr/local/lib/python3.7/dist-packages (from requests<3,>=2.21.0->tensorboard<2.10,>=2.9->tensorflow) (2.10)\n",
            "Requirement already satisfied: oauthlib>=3.0.0 in /usr/local/lib/python3.7/dist-packages (from requests-oauthlib>=0.7.0->google-auth-oauthlib<0.5,>=0.4.1->tensorboard<2.10,>=2.9->tensorflow) (3.2.0)\n",
            "Requirement already satisfied: pyparsing!=3.0.5,>=2.0.2 in /usr/local/lib/python3.7/dist-packages (from packaging->tensorflow) (3.0.9)\n",
            "Installing collected packages: tensorflow-estimator, tensorboard, keras, gast, flatbuffers, tensorflow\n",
            "  Attempting uninstall: tensorflow-estimator\n",
            "    Found existing installation: tensorflow-estimator 2.8.0\n",
            "    Uninstalling tensorflow-estimator-2.8.0:\n",
            "      Successfully uninstalled tensorflow-estimator-2.8.0\n",
            "  Attempting uninstall: tensorboard\n",
            "    Found existing installation: tensorboard 2.8.0\n",
            "    Uninstalling tensorboard-2.8.0:\n",
            "      Successfully uninstalled tensorboard-2.8.0\n",
            "  Attempting uninstall: keras\n",
            "    Found existing installation: keras 2.8.0\n",
            "    Uninstalling keras-2.8.0:\n",
            "      Successfully uninstalled keras-2.8.0\n",
            "  Attempting uninstall: gast\n",
            "    Found existing installation: gast 0.5.3\n",
            "    Uninstalling gast-0.5.3:\n",
            "      Successfully uninstalled gast-0.5.3\n",
            "  Attempting uninstall: flatbuffers\n",
            "    Found existing installation: flatbuffers 2.0\n",
            "    Uninstalling flatbuffers-2.0:\n",
            "      Successfully uninstalled flatbuffers-2.0\n",
            "  Attempting uninstall: tensorflow\n",
            "    Found existing installation: tensorflow 2.8.2+zzzcolab20220719082949\n",
            "    Uninstalling tensorflow-2.8.2+zzzcolab20220719082949:\n",
            "      Successfully uninstalled tensorflow-2.8.2+zzzcolab20220719082949\n",
            "Successfully installed flatbuffers-1.12 gast-0.4.0 keras-2.9.0 tensorboard-2.9.1 tensorflow-2.9.1 tensorflow-estimator-2.9.0\n"
          ]
        },
        {
          "output_type": "display_data",
          "data": {
            "application/vnd.colab-display-data+json": {
              "pip_warning": {
                "packages": [
                  "flatbuffers",
                  "gast",
                  "keras",
                  "tensorboard",
                  "tensorflow"
                ]
              }
            }
          },
          "metadata": {}
        }
      ],
      "source": [
        "!pip install --upgrade tensorflow"
      ]
    },
    {
      "cell_type": "code",
      "source": [
        "import tensorflow as tf\n",
        "\n",
        "print(tf.__version__)"
      ],
      "metadata": {
        "colab": {
          "base_uri": "https://localhost:8080/"
        },
        "id": "IFCbhP0ArKAz",
        "outputId": "bbd44835-e986-44d9-c361-fc4bf2137b69"
      },
      "id": "IFCbhP0ArKAz",
      "execution_count": 5,
      "outputs": [
        {
          "output_type": "stream",
          "name": "stdout",
          "text": [
            "2.8.2\n"
          ]
        }
      ]
    },
    {
      "cell_type": "markdown",
      "id": "bd0ebce3-6e46-4a44-aa8b-09493d43b9df",
      "metadata": {
        "id": "bd0ebce3-6e46-4a44-aa8b-09493d43b9df"
      },
      "source": [
        "### 문제 2. 데이터 만들기"
      ]
    },
    {
      "cell_type": "code",
      "execution_count": 6,
      "id": "5a5f0a69-01e6-4c9d-9ed2-cdafc3fb9b54",
      "metadata": {
        "id": "5a5f0a69-01e6-4c9d-9ed2-cdafc3fb9b54"
      },
      "outputs": [],
      "source": [
        "# 임의 데이터 작성 : [공부 시간, 점수]\n",
        "\n",
        "data = [[2,81],[4,93],[6,91],[8,97]]"
      ]
    },
    {
      "cell_type": "markdown",
      "id": "d8af2d43-d2a3-4ca6-b769-7bcc14c1886d",
      "metadata": {
        "id": "d8af2d43-d2a3-4ca6-b769-7bcc14c1886d"
      },
      "source": [
        "### 문제 2. X, y 데이터로 분리"
      ]
    },
    {
      "cell_type": "markdown",
      "id": "a4903db9-55a7-48df-82ec-e025bb352f5c",
      "metadata": {
        "id": "a4903db9-55a7-48df-82ec-e025bb352f5c"
      },
      "source": [
        "* 종속변수와 독립변수로 분리"
      ]
    },
    {
      "cell_type": "code",
      "execution_count": 7,
      "id": "22b246d6-926e-451d-9cfc-ce4a3b31c349",
      "metadata": {
        "id": "22b246d6-926e-451d-9cfc-ce4a3b31c349"
      },
      "outputs": [],
      "source": [
        "# 파이썬의 리스트 내포 \n",
        "\n",
        "X = [i[0] for i in data]\n",
        "y = [i[1] for i in data]\n",
        "\n",
        "X = np.array(X)\n",
        "y = np.array(y)\n"
      ]
    },
    {
      "cell_type": "markdown",
      "id": "4ba4b8a4-c0e0-43eb-8aa3-6bc5c81e70bf",
      "metadata": {
        "id": "4ba4b8a4-c0e0-43eb-8aa3-6bc5c81e70bf"
      },
      "source": [
        "### 문제 3. 시각화"
      ]
    },
    {
      "cell_type": "code",
      "execution_count": 8,
      "id": "b998020f-9945-4c42-99c7-a2860429a429",
      "metadata": {
        "id": "b998020f-9945-4c42-99c7-a2860429a429",
        "colab": {
          "base_uri": "https://localhost:8080/",
          "height": 442
        },
        "outputId": "d731880a-1c09-4bc1-bd45-a11e6a4a35b6"
      },
      "outputs": [
        {
          "output_type": "display_data",
          "data": {
            "text/plain": [
              "<Figure size 720x504 with 1 Axes>"
            ],
            "image/png": "[encoded data removed]"
          },
          "metadata": {
            "needs_background": "light"
          }
        }
      ],
      "source": [
        "# 데이터의 산점도\n",
        "\n",
        "plt.figure(figsize=(10,7))\n",
        "plt.scatter(X,y)\n",
        "plt.xlabel('Hour')\n",
        "plt.ylabel('Points')\n",
        "plt.show()"
      ]
    },
    {
      "cell_type": "markdown",
      "id": "24b94744-34ba-47f9-a0a0-438e5d24ea48",
      "metadata": {
        "id": "24b94744-34ba-47f9-a0a0-438e5d24ea48"
      },
      "source": [
        "### 문제 4. 가설 "
      ]
    },
    {
      "cell_type": "markdown",
      "id": "08c191c4-edca-488b-b8b7-ae0a6a247210",
      "metadata": {
        "id": "08c191c4-edca-488b-b8b7-ae0a6a247210"
      },
      "source": [
        "* 가설 : $ \\hat{y}=Wx +b$"
      ]
    },
    {
      "cell_type": "code",
      "execution_count": 9,
      "id": "31222d65-c650-457e-bed4-6f62347fa430",
      "metadata": {
        "id": "31222d65-c650-457e-bed4-6f62347fa430"
      },
      "outputs": [],
      "source": [
        "# 임의의 초기값 설정, 변수를 텐서플로우 변수로 정의하는 이유는 자동미분기능(GradientTape)을 사용하기 위함\n",
        "\n",
        "W = tf.Variable(2.0)\n",
        "b = tf.Variable(0.5)\n",
        "\n",
        "hypothesis = W*X + b\n"
      ]
    },
    {
      "cell_type": "code",
      "source": [
        "hypothesis"
      ],
      "metadata": {
        "id": "ihEK60Vqd1UP",
        "colab": {
          "base_uri": "https://localhost:8080/"
        },
        "outputId": "2adb13f0-f448-465e-e12b-53ea6b70671d"
      },
      "id": "ihEK60Vqd1UP",
      "execution_count": 10,
      "outputs": [
        {
          "output_type": "execute_result",
          "data": {
            "text/plain": [
              "<tf.Tensor: shape=(4,), dtype=float32, numpy=array([ 4.5,  8.5, 12.5, 16.5], dtype=float32)>"
            ]
          },
          "metadata": {},
          "execution_count": 10
        }
      ]
    },
    {
      "cell_type": "markdown",
      "id": "22279cd8-182d-4ff0-8c8c-623f1869a70b",
      "metadata": {
        "id": "22279cd8-182d-4ff0-8c8c-623f1869a70b"
      },
      "source": [
        "Tensor에서 numpy array로 변환은 .numpy()함수를 사용합니다"
      ]
    },
    {
      "cell_type": "code",
      "execution_count": 11,
      "id": "e9f1fc36-1db5-4a12-ab5f-d2616e907259",
      "metadata": {
        "id": "e9f1fc36-1db5-4a12-ab5f-d2616e907259",
        "colab": {
          "base_uri": "https://localhost:8080/"
        },
        "outputId": "9f1dee3a-738c-4289-d7c4-839d65209b8b"
      },
      "outputs": [
        {
          "output_type": "execute_result",
          "data": {
            "text/plain": [
              "(<tf.Variable 'Variable:0' shape=() dtype=float32, numpy=2.0>, 2.0)"
            ]
          },
          "metadata": {},
          "execution_count": 11
        }
      ],
      "source": [
        "# 초기값 확인\n",
        "#Tensor에서 numpy array로 변환은 .numpy()함수 사용\n",
        "\n",
        "W, W.numpy()"
      ]
    },
    {
      "cell_type": "markdown",
      "id": "855378f0-e220-4e93-b1fe-c1eb34dea075",
      "metadata": {
        "id": "855378f0-e220-4e93-b1fe-c1eb34dea075"
      },
      "source": [
        "#### 가설의 시각화 "
      ]
    },
    {
      "cell_type": "code",
      "execution_count": 12,
      "id": "21547443-bc60-4971-8c63-e8b3f129368f",
      "metadata": {
        "id": "21547443-bc60-4971-8c63-e8b3f129368f",
        "outputId": "45b3ed33-d33b-478a-f89d-5c872e55673f",
        "colab": {
          "base_uri": "https://localhost:8080/",
          "height": 446
        }
      },
      "outputs": [
        {
          "output_type": "execute_result",
          "data": {
            "text/plain": [
              "[<matplotlib.lines.Line2D at 0x7f7089320890>]"
            ]
          },
          "metadata": {},
          "execution_count": 12
        },
        {
          "output_type": "display_data",
          "data": {
            "text/plain": [
              "<Figure size 720x504 with 1 Axes>"
            ],
            "image/png": "[encoded data removed]"
          },
          "metadata": {
            "needs_background": "light"
          }
        }
      ],
      "source": [
        "plt.figure(figsize=(10,7))\n",
        "plt.plot(X,hypothesis.numpy(), 'r--')\n",
        "plt.plot(X,y,'go')"
      ]
    },
    {
      "cell_type": "markdown",
      "id": "16b383ae-2131-4757-a770-e0731e587bbd",
      "metadata": {
        "id": "16b383ae-2131-4757-a770-e0731e587bbd"
      },
      "source": [
        "### 6. 비용 함수 (Cost Function)"
      ]
    },
    {
      "cell_type": "markdown",
      "id": "2d39d625-1ed6-47fd-ab8b-33d74a85a217",
      "metadata": {
        "id": "2d39d625-1ed6-47fd-ab8b-33d74a85a217"
      },
      "source": [
        "$$ \\hat{y}=Wx +b$$\n",
        "$$ cost(W)=\\frac { 1 }{ m } \\sum _{i=1}^{m}{ ({ y-\\hat{y}_{ i } })^{ 2 } }  $$"
      ]
    },
    {
      "cell_type": "code",
      "execution_count": 13,
      "id": "c47c473b-f6db-420a-a7c1-63baca3a8e04",
      "metadata": {
        "id": "c47c473b-f6db-420a-a7c1-63baca3a8e04",
        "colab": {
          "base_uri": "https://localhost:8080/"
        },
        "outputId": "4943834f-0630-4122-f6b0-e421531045f1"
      },
      "outputs": [
        {
          "output_type": "execute_result",
          "data": {
            "text/plain": [
              "6408.75"
            ]
          },
          "metadata": {},
          "execution_count": 13
        }
      ],
      "source": [
        "# 현재 손실\n",
        "cost = tf.reduce_mean(tf.square(hypothesis - y))\n",
        "cost.numpy()"
      ]
    },
    {
      "cell_type": "markdown",
      "id": "8e02bfd5-3f0f-405b-b365-4458f355783e",
      "metadata": {
        "id": "8e02bfd5-3f0f-405b-b365-4458f355783e"
      },
      "source": [
        "### 7. 학습\n",
        "#### 자동 미분 기능"
      ]
    },
    {
      "cell_type": "markdown",
      "id": "c01f60f7-d33b-4b6b-9e09-ec907a7e8c56",
      "metadata": {
        "id": "c01f60f7-d33b-4b6b-9e09-ec907a7e8c56"
      },
      "source": [
        "* 텐서플로우의 자동미분 기능을 사용"
      ]
    },
    {
      "cell_type": "code",
      "execution_count": 14,
      "id": "6f7c13b2-f344-43a4-bdb4-e742db7121da",
      "metadata": {
        "id": "6f7c13b2-f344-43a4-bdb4-e742db7121da"
      },
      "outputs": [],
      "source": [
        "# 손실함수의 미분값을 계산하세요\n",
        "\n",
        "with tf.GradientTape() as type:\n",
        "  hypothesis = W*X + b\n",
        "  cost = tf.reduce_mean(tf.square(hypothesis - y))\n",
        "\n",
        "W_grad, b_grad = type.gradient(cost, [W,b])"
      ]
    },
    {
      "cell_type": "code",
      "execution_count": 15,
      "id": "81727d05-e4fc-42ee-b0ae-fd08d86a47a4",
      "metadata": {
        "id": "81727d05-e4fc-42ee-b0ae-fd08d86a47a4",
        "colab": {
          "base_uri": "https://localhost:8080/"
        },
        "outputId": "aa6a03f0-56da-4d7a-ddaa-a664b72e6274"
      },
      "outputs": [
        {
          "output_type": "execute_result",
          "data": {
            "text/plain": [
              "(-803.0, -160.0)"
            ]
          },
          "metadata": {},
          "execution_count": 15
        }
      ],
      "source": [
        "# W와 b 계산값을 출력\n",
        "\n",
        "W_grad.numpy(), b_grad.numpy()\n"
      ]
    },
    {
      "cell_type": "code",
      "execution_count": 15,
      "id": "b98827b5-7e4e-4910-8331-695099cb17f7",
      "metadata": {
        "id": "b98827b5-7e4e-4910-8331-695099cb17f7"
      },
      "outputs": [],
      "source": [
        ""
      ]
    },
    {
      "cell_type": "markdown",
      "id": "c1774e85-69c9-4d83-a210-40022523596f",
      "metadata": {
        "id": "c1774e85-69c9-4d83-a210-40022523596f"
      },
      "source": [
        "#### 가중치와 기울기 갱신"
      ]
    },
    {
      "cell_type": "code",
      "execution_count": 16,
      "id": "5bd6c5d5-5318-4733-9bb4-cf5ff26b4ed4",
      "metadata": {
        "id": "5bd6c5d5-5318-4733-9bb4-cf5ff26b4ed4",
        "colab": {
          "base_uri": "https://localhost:8080/"
        },
        "outputId": "8ff2005f-2ce5-468b-ba96-cb2603d838b3"
      },
      "outputs": [
        {
          "output_type": "execute_result",
          "data": {
            "text/plain": [
              "<tf.Variable 'UnreadVariable' shape=() dtype=float32, numpy=2.1>"
            ]
          },
          "metadata": {},
          "execution_count": 16
        }
      ],
      "source": [
        "learning_rate = 0.01\n",
        "\n",
        "W.assign_sub(learning_rate * W_grad)\n",
        "b.assign_sub(learning_rate * b_grad)"
      ]
    },
    {
      "cell_type": "code",
      "execution_count": 17,
      "id": "be0272a3-d78a-4e3c-a6a3-dc8c8505d57a",
      "metadata": {
        "id": "be0272a3-d78a-4e3c-a6a3-dc8c8505d57a",
        "colab": {
          "base_uri": "https://localhost:8080/"
        },
        "outputId": "376e05b7-8e5f-48f2-ae71-273159753f1d"
      },
      "outputs": [
        {
          "output_type": "execute_result",
          "data": {
            "text/plain": [
              "(10.03, 2.1)"
            ]
          },
          "metadata": {},
          "execution_count": 17
        }
      ],
      "source": [
        "# W와 b 계산값을 출력하세요\n",
        "\n",
        "W.numpy(), b.numpy()\n"
      ]
    },
    {
      "cell_type": "markdown",
      "id": "b385e5a5-860e-478b-9be4-492100dfecbb",
      "metadata": {
        "id": "b385e5a5-860e-478b-9be4-492100dfecbb"
      },
      "source": [
        "#### 현재 상태 시각화"
      ]
    },
    {
      "cell_type": "code",
      "execution_count": 18,
      "id": "32adb49a-5b32-4969-8da3-55bfd0fc897f",
      "metadata": {
        "id": "32adb49a-5b32-4969-8da3-55bfd0fc897f",
        "colab": {
          "base_uri": "https://localhost:8080/",
          "height": 429
        },
        "outputId": "2c39929f-0419-4a2c-9ca5-12e9f5026315"
      },
      "outputs": [
        {
          "output_type": "display_data",
          "data": {
            "text/plain": [
              "<Figure size 720x504 with 1 Axes>"
            ],
            "image/png": "[encoded data removed]"
          },
          "metadata": {
            "needs_background": "light"
          }
        }
      ],
      "source": [
        "hypothesis = W*X + b\n",
        "\n",
        "plt.figure(figsize=(10,7))\n",
        "plt.plot(X,hypothesis.numpy(),'r--')\n",
        "plt.plot(X,y,'go')\n",
        "plt.show()"
      ]
    },
    {
      "cell_type": "markdown",
      "id": "1c968e8a-11c2-4f81-9f9f-12fc10c874f5",
      "metadata": {
        "id": "1c968e8a-11c2-4f81-9f9f-12fc10c874f5"
      },
      "source": [
        "### 8. 경사하강법 (Gradient Descent)"
      ]
    },
    {
      "cell_type": "code",
      "execution_count": 25,
      "id": "d692e2dd-b92d-4f62-b3b8-ed94389cb4a1",
      "metadata": {
        "id": "d692e2dd-b92d-4f62-b3b8-ed94389cb4a1"
      },
      "outputs": [],
      "source": [
        "W = tf.Variable(2.9)\n",
        "b = tf.Variable(0.5)\n",
        "lr = 0.01\n",
        "epochs = 2000"
      ]
    },
    {
      "cell_type": "code",
      "execution_count": 26,
      "id": "cd2c9ef6-a2b6-4ab3-9577-3e31b8c1faea",
      "metadata": {
        "id": "cd2c9ef6-a2b6-4ab3-9577-3e31b8c1faea",
        "colab": {
          "base_uri": "https://localhost:8080/"
        },
        "outputId": "e114df4c-dcf8-4a7c-e4e5-0453526ebaaa"
      },
      "outputs": [
        {
          "output_type": "stream",
          "name": "stdout",
          "text": [
            "    0 | W=10.3900 | b=2.0100 | cost= 5710.350098\n",
            "  100 | W=11.5285 | b=23.9284 | cost= 517.148865\n",
            "  200 | W=8.9691 | b=39.2015 | cost= 274.046814\n",
            "  300 | W=7.1196 | b=50.2388 | cost= 147.086487\n",
            "  400 | W=5.7830 | b=58.2152 | cost= 80.781250\n",
            "  500 | W=4.8170 | b=63.9795 | cost= 46.153404\n",
            "  600 | W=4.1190 | b=68.1451 | cost= 28.069046\n",
            "  700 | W=3.6145 | b=71.1555 | cost= 18.624388\n",
            "  800 | W=3.2500 | b=73.3310 | cost= 13.691942\n",
            "  900 | W=2.9865 | b=74.9032 | cost= 11.115941\n",
            " 1000 | W=2.7961 | b=76.0394 | cost= 9.770640\n",
            " 1100 | W=2.6585 | b=76.8604 | cost= 9.068078\n",
            " 1200 | W=2.5591 | b=77.4538 | cost= 8.701128\n",
            " 1300 | W=2.4872 | b=77.8826 | cost= 8.509480\n",
            " 1400 | W=2.4353 | b=78.1925 | cost= 8.409400\n",
            " 1500 | W=2.3978 | b=78.4164 | cost= 8.357142\n",
            " 1600 | W=2.3707 | b=78.5782 | cost= 8.329845\n",
            " 1700 | W=2.3511 | b=78.6952 | cost= 8.315588\n",
            " 1800 | W=2.3369 | b=78.7797 | cost= 8.308147\n",
            " 1900 | W=2.3267 | b=78.8408 | cost= 8.304251\n",
            " 2000 | W=2.3193 | b=78.8850 | cost= 8.302218\n"
          ]
        }
      ],
      "source": [
        "for i in range(epochs+1):\n",
        "  with tf.GradientTape() as tape:\n",
        "    hypothesis = W*X + b\n",
        "    cost = tf.reduce_mean(tf.square(hypothesis-y))\n",
        "\n",
        "  W_grad, b_grad = tape.gradient(cost, [W, b])\n",
        "  W.assign_sub(lr*W_grad)\n",
        "  b.assign_sub(lr*b_grad)\n",
        "  \n",
        "  if i%100 == 0:\n",
        "    print(f\"{i:5} | W={W.numpy():.4f} | b={b.numpy():.4f} | cost={cost: .6f}\")"
      ]
    },
    {
      "cell_type": "markdown",
      "id": "08be816c-a6f0-4b55-a54f-c35219cb8f3f",
      "metadata": {
        "id": "08be816c-a6f0-4b55-a54f-c35219cb8f3f"
      },
      "source": [
        "#### 학습결과 시각화"
      ]
    },
    {
      "cell_type": "code",
      "execution_count": 27,
      "id": "a99e534d-f317-4016-96ee-775537c66f00",
      "metadata": {
        "id": "a99e534d-f317-4016-96ee-775537c66f00",
        "colab": {
          "base_uri": "https://localhost:8080/",
          "height": 428
        },
        "outputId": "893299fa-f233-4aea-84e3-61b9f408f318"
      },
      "outputs": [
        {
          "output_type": "display_data",
          "data": {
            "text/plain": [
              "<Figure size 720x504 with 1 Axes>"
            ],
            "image/png": "[encoded data removed]"
          },
          "metadata": {
            "needs_background": "light"
          }
        }
      ],
      "source": [
        "plt.figure(figsize =(10,7))\n",
        "plt.plot(X,y, 'o')\n",
        "plt.plot(X,hypothesis.numpy(), 'r--')\n",
        "plt.show()"
      ]
    },
    {
      "cell_type": "markdown",
      "id": "2a345c62-177c-4fb7-ad3a-d9b9311430c2",
      "metadata": {
        "id": "2a345c62-177c-4fb7-ad3a-d9b9311430c2"
      },
      "source": [
        "### 9. 예측하기"
      ]
    },
    {
      "cell_type": "markdown",
      "id": "b234c2c1-c176-4180-bb8f-f9c9228ddebd",
      "metadata": {
        "id": "b234c2c1-c176-4180-bb8f-f9c9228ddebd"
      },
      "source": [
        "> * 5시간 공부하면 몇점 받을 수 있을까?"
      ]
    },
    {
      "cell_type": "code",
      "execution_count": null,
      "id": "a1a442ae-f6e6-4384-9a17-3df570f392b0",
      "metadata": {
        "id": "a1a442ae-f6e6-4384-9a17-3df570f392b0"
      },
      "outputs": [],
      "source": [
        "W.numpy(), b.numpy()"
      ]
    },
    {
      "cell_type": "code",
      "execution_count": 28,
      "id": "53f5c012-8c51-4a2d-a2e3-082ee4725448",
      "metadata": {
        "id": "53f5c012-8c51-4a2d-a2e3-082ee4725448",
        "colab": {
          "base_uri": "https://localhost:8080/"
        },
        "outputId": "b728ec2a-f2f4-4df9-d3af-500e48691831"
      },
      "outputs": [
        {
          "output_type": "execute_result",
          "data": {
            "text/plain": [
              "90.481346"
            ]
          },
          "metadata": {},
          "execution_count": 28
        }
      ],
      "source": [
        "(5*W + b).numpy()"
      ]
    },
    {
      "cell_type": "markdown",
      "id": "af707327-ce64-432b-a5ab-9797df160370",
      "metadata": {
        "id": "af707327-ce64-432b-a5ab-9797df160370"
      },
      "source": [
        "끝"
      ]
    },
    {
      "cell_type": "code",
      "execution_count": null,
      "id": "0822eca9-b42b-497b-ae61-d839851344af",
      "metadata": {
        "id": "0822eca9-b42b-497b-ae61-d839851344af"
      },
      "outputs": [],
      "source": [
        ""
      ]
    }
  ],
  "metadata": {
    "kernelspec": {
      "display_name": "myml",
      "language": "python",
      "name": "myml"
    },
    "language_info": {
      "codemirror_mode": {
        "name": "ipython",
        "version": 3
      },
      "file_extension": ".py",
      "mimetype": "text/x-python",
      "name": "python",
      "nbconvert_exporter": "python",
      "pygments_lexer": "ipython3",
      "version": "3.8.0"
    },
    "colab": {
      "name": "텐서프롤우1_tf_linear_regression.ipynb",
      "provenance": [],
      "collapsed_sections": [],
      "include_colab_link": true
    },
    "accelerator": "TPU",
    "gpuClass": "standard"
  },
  "nbformat": 4,
  "nbformat_minor": 5
}
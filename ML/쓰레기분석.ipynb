{
 "cells": [
  {
   "cell_type": "code",
   "execution_count": 157,
   "id": "470c5343",
   "metadata": {},
   "outputs": [],
   "source": [
    "import matplotlib.pyplot as plt\n",
    "import numpy as np\n",
    "import pandas as pd\n",
    "import seaborn as sns"
   ]
  },
  {
   "cell_type": "markdown",
   "id": "f0a3c1e7",
   "metadata": {},
   "source": [
    "### 데이터 "
   ]
  },
  {
   "cell_type": "code",
   "execution_count": null,
   "id": "3d8f9f1d",
   "metadata": {},
   "outputs": [],
   "source": [
    "https://data.seoul.go.kr/dataList/10852/S/2/datasetView.do"
   ]
  },
  {
   "cell_type": "code",
   "execution_count": 158,
   "id": "f497e3c8",
   "metadata": {},
   "outputs": [],
   "source": [
    "df = pd.read_csv(\"./trash.csv\") #dtype = {\"합계\":float,\"쓰레기봉투\":float,\"음식물쓰레기\":float,\"대형폐기물\":float,\"재활용품\":float})\n",
    "df = df.drop([df.columns[6],df.columns[7],df.columns[8],df.columns[9],df.columns[10],df.columns[11],df.columns[12]], axis =1)"
   ]
  },
  {
   "cell_type": "code",
   "execution_count": 159,
   "id": "c6642158",
   "metadata": {},
   "outputs": [
    {
     "data": {
      "text/html": [
       "<div>\n",
       "<style scoped>\n",
       "    .dataframe tbody tr th:only-of-type {\n",
       "        vertical-align: middle;\n",
       "    }\n",
       "\n",
       "    .dataframe tbody tr th {\n",
       "        vertical-align: top;\n",
       "    }\n",
       "\n",
       "    .dataframe thead th {\n",
       "        text-align: right;\n",
       "    }\n",
       "</style>\n",
       "<table border=\"1\" class=\"dataframe\">\n",
       "  <thead>\n",
       "    <tr style=\"text-align: right;\">\n",
       "      <th></th>\n",
       "      <th>구분</th>\n",
       "      <th>합계</th>\n",
       "      <th>쓰레기봉투</th>\n",
       "      <th>음식물쓰레기</th>\n",
       "      <th>대형폐기물</th>\n",
       "      <th>재활용품</th>\n",
       "    </tr>\n",
       "  </thead>\n",
       "  <tbody>\n",
       "    <tr>\n",
       "      <th>0</th>\n",
       "      <td>종로구</td>\n",
       "      <td>93023</td>\n",
       "      <td>50374</td>\n",
       "      <td>28212</td>\n",
       "      <td>3791</td>\n",
       "      <td>10646</td>\n",
       "    </tr>\n",
       "    <tr>\n",
       "      <th>1</th>\n",
       "      <td>중구</td>\n",
       "      <td>101357</td>\n",
       "      <td>66366</td>\n",
       "      <td>29367</td>\n",
       "      <td>2086</td>\n",
       "      <td>3538</td>\n",
       "    </tr>\n",
       "    <tr>\n",
       "      <th>2</th>\n",
       "      <td>용산구</td>\n",
       "      <td>66751</td>\n",
       "      <td>34179</td>\n",
       "      <td>22457</td>\n",
       "      <td>4495</td>\n",
       "      <td>5420</td>\n",
       "    </tr>\n",
       "    <tr>\n",
       "      <th>3</th>\n",
       "      <td>성동구</td>\n",
       "      <td>68674</td>\n",
       "      <td>29399</td>\n",
       "      <td>28840</td>\n",
       "      <td>6232</td>\n",
       "      <td>4203</td>\n",
       "    </tr>\n",
       "    <tr>\n",
       "      <th>4</th>\n",
       "      <td>광진구</td>\n",
       "      <td>85771</td>\n",
       "      <td>31812</td>\n",
       "      <td>31483</td>\n",
       "      <td>8297</td>\n",
       "      <td>14179</td>\n",
       "    </tr>\n",
       "  </tbody>\n",
       "</table>\n",
       "</div>"
      ],
      "text/plain": [
       "    구분      합계  쓰레기봉투  음식물쓰레기  대형폐기물   재활용품\n",
       "0  종로구   93023  50374   28212   3791  10646\n",
       "1   중구  101357  66366   29367   2086   3538\n",
       "2  용산구   66751  34179   22457   4495   5420\n",
       "3  성동구   68674  29399   28840   6232   4203\n",
       "4  광진구   85771  31812   31483   8297  14179"
      ]
     },
     "execution_count": 159,
     "metadata": {},
     "output_type": "execute_result"
    }
   ],
   "source": [
    "df.head()"
   ]
  },
  {
   "cell_type": "markdown",
   "id": "e499cf93",
   "metadata": {},
   "source": [
    "### 쓰레기봉투 - 음식물쓰레기 ###"
   ]
  },
  {
   "cell_type": "code",
   "execution_count": 160,
   "id": "eae50505",
   "metadata": {},
   "outputs": [
    {
     "data": {
      "image/png": "[encoded data removed]",
      "text/plain": [
       "<Figure size 432x288 with 1 Axes>"
      ]
     },
     "metadata": {
      "needs_background": "light"
     },
     "output_type": "display_data"
    }
   ],
   "source": [
    "from sklearn import linear_model\n",
    "reg = linear_model.LinearRegression()\n",
    "X=[]\n",
    "df_list = df['쓰레기봉투'].tolist()\n",
    "for i in df_list:\n",
    "    X.append([i])\n",
    "y = df['음식물쓰레기'].tolist()\n",
    "\n",
    "reg.fit(X,y)\n",
    "\n",
    "plt.scatter(X,y,color='black')\n",
    "y_pred = reg.predict(X)\n",
    "plt.plot(X,y_pred,color='blue',linewidth = 3)\n",
    "plt.show()"
   ]
  },
  {
   "cell_type": "markdown",
   "id": "01c9c920",
   "metadata": {},
   "source": [
    "### 쓰레기봉투 - 대형폐기물"
   ]
  },
  {
   "cell_type": "code",
   "execution_count": 161,
   "id": "11a21f4a",
   "metadata": {},
   "outputs": [
    {
     "data": {
      "image/png": "[encoded data removed]",
      "text/plain": [
       "<Figure size 432x288 with 1 Axes>"
      ]
     },
     "metadata": {
      "needs_background": "light"
     },
     "output_type": "display_data"
    }
   ],
   "source": [
    "from sklearn import linear_model\n",
    "reg = linear_model.LinearRegression()\n",
    "X=[]\n",
    "df_list = df['쓰레기봉투'].tolist()\n",
    "for i in df_list:\n",
    "    X.append([i])\n",
    "y = df['대형폐기물'].tolist()\n",
    "\n",
    "reg.fit(X,y)\n",
    "\n",
    "plt.scatter(X,y,color='black')\n",
    "y_pred = reg.predict(X)\n",
    "plt.plot(X,y_pred,color='blue',linewidth = 3)\n",
    "plt.show()"
   ]
  },
  {
   "cell_type": "markdown",
   "id": "5fa2507d",
   "metadata": {},
   "source": [
    "### 쓰레기봉투-재활용품 ###"
   ]
  },
  {
   "cell_type": "code",
   "execution_count": 162,
   "id": "8c8b4f99",
   "metadata": {},
   "outputs": [
    {
     "data": {
      "image/png": "[encoded data removed]",
      "text/plain": [
       "<Figure size 432x288 with 1 Axes>"
      ]
     },
     "metadata": {
      "needs_background": "light"
     },
     "output_type": "display_data"
    }
   ],
   "source": [
    "from sklearn import linear_model\n",
    "reg = linear_model.LinearRegression()\n",
    "X=[]\n",
    "df_list = df['쓰레기봉투'].tolist()\n",
    "for i in df_list:\n",
    "    X.append([i])\n",
    "y = df['재활용품'].tolist()\n",
    "\n",
    "reg.fit(X,y)\n",
    "\n",
    "plt.scatter(X,y,color='black')\n",
    "y_pred = reg.predict(X)\n",
    "plt.plot(X,y_pred,color='blue',linewidth = 3)\n",
    "plt.show()"
   ]
  },
  {
   "cell_type": "markdown",
   "id": "a944fc36",
   "metadata": {},
   "source": [
    "### 데이터 분석 결과"
   ]
  },
  {
   "cell_type": "markdown",
   "id": "9367cbba",
   "metadata": {},
   "source": [
    "쓰레기봉투와\n",
    "가장 상관관계가 있는 것은 음식물쓰레기\n",
    "가장 상관관계가 없는 것은 재활용품 \n",
    "이란 것을 확인"
   ]
  },
  {
   "cell_type": "markdown",
   "id": "08d48224",
   "metadata": {},
   "source": [
    "위 분석을 통해 사람들은 재활용품을 잘 분리수거 하지만, 음식물 쓰레기는 쓰레기봉투에 같이 버리는 경향이 있다는 것을 도출할 수 있다 생각!"
   ]
  }
 ],
 "metadata": {
  "kernelspec": {
   "display_name": "Python 3 (ipykernel)",
   "language": "python",
   "name": "python3"
  },
  "language_info": {
   "codemirror_mode": {
    "name": "ipython",
    "version": 3
   },
   "file_extension": ".py",
   "mimetype": "text/x-python",
   "name": "python",
   "nbconvert_exporter": "python",
   "pygments_lexer": "ipython3",
   "version": "3.9.12"
  }
 },
 "nbformat": 4,
 "nbformat_minor": 5
}

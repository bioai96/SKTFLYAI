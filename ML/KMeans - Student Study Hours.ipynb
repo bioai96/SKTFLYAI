{
 "cells": [
  {
   "cell_type": "markdown",
   "id": "f55c0626",
   "metadata": {},
   "source": [
    "### Student Study Hours "
   ]
  },
  {
   "cell_type": "markdown",
   "id": "9247ee40",
   "metadata": {},
   "source": [
    "### data"
   ]
  },
  {
   "cell_type": "markdown",
   "id": "12469a56",
   "metadata": {},
   "source": [
    "#### https://www.kaggle.com/datasets/himanshunakrani/student-study-hours?resource=download"
   ]
  },
  {
   "cell_type": "markdown",
   "id": "80a106c6",
   "metadata": {},
   "source": [
    "공부시간과 점수와의 상관관계 확인"
   ]
  },
  {
   "cell_type": "code",
   "execution_count": 34,
   "id": "0cf9281b",
   "metadata": {},
   "outputs": [
    {
     "data": {
      "text/html": [
       "<div>\n",
       "<style scoped>\n",
       "    .dataframe tbody tr th:only-of-type {\n",
       "        vertical-align: middle;\n",
       "    }\n",
       "\n",
       "    .dataframe tbody tr th {\n",
       "        vertical-align: top;\n",
       "    }\n",
       "\n",
       "    .dataframe thead th {\n",
       "        text-align: right;\n",
       "    }\n",
       "</style>\n",
       "<table border=\"1\" class=\"dataframe\">\n",
       "  <thead>\n",
       "    <tr style=\"text-align: right;\">\n",
       "      <th></th>\n",
       "      <th>Hours</th>\n",
       "      <th>Scores</th>\n",
       "    </tr>\n",
       "  </thead>\n",
       "  <tbody>\n",
       "    <tr>\n",
       "      <th>0</th>\n",
       "      <td>2.5</td>\n",
       "      <td>21</td>\n",
       "    </tr>\n",
       "    <tr>\n",
       "      <th>1</th>\n",
       "      <td>5.1</td>\n",
       "      <td>47</td>\n",
       "    </tr>\n",
       "    <tr>\n",
       "      <th>2</th>\n",
       "      <td>3.2</td>\n",
       "      <td>27</td>\n",
       "    </tr>\n",
       "    <tr>\n",
       "      <th>3</th>\n",
       "      <td>8.5</td>\n",
       "      <td>75</td>\n",
       "    </tr>\n",
       "    <tr>\n",
       "      <th>4</th>\n",
       "      <td>3.5</td>\n",
       "      <td>30</td>\n",
       "    </tr>\n",
       "  </tbody>\n",
       "</table>\n",
       "</div>"
      ],
      "text/plain": [
       "   Hours  Scores\n",
       "0    2.5      21\n",
       "1    5.1      47\n",
       "2    3.2      27\n",
       "3    8.5      75\n",
       "4    3.5      30"
      ]
     },
     "execution_count": 34,
     "metadata": {},
     "output_type": "execute_result"
    }
   ],
   "source": [
    "import os\n",
    "import pandas as pd\n",
    "csv = os.path.join('./score.csv')\n",
    "df = pd.read_csv(csv)\n",
    "df.head(5)"
   ]
  },
  {
   "cell_type": "code",
   "execution_count": 24,
   "id": "ed24a770",
   "metadata": {},
   "outputs": [
    {
     "data": {
      "image/png": "[encoded data removed]",
      "text/plain": [
       "<Figure size 432x288 with 1 Axes>"
      ]
     },
     "metadata": {
      "needs_background": "light"
     },
     "output_type": "display_data"
    }
   ],
   "source": [
    "plt.plot(df['Hours'],df['Scores'],'.')\n",
    "plt.show()"
   ]
  },
  {
   "cell_type": "markdown",
   "id": "7de500ad",
   "metadata": {},
   "source": [
    "역시나 오래공부하면 공부할수록 점수가 높은 것을 확인할 수 있음"
   ]
  },
  {
   "cell_type": "markdown",
   "id": "2ba4f708",
   "metadata": {},
   "source": [
    "클러스터링을 통해 그룹을 나누어 수준별로 분류해보자!!"
   ]
  },
  {
   "cell_type": "code",
   "execution_count": 31,
   "id": "53eca62f",
   "metadata": {},
   "outputs": [],
   "source": [
    "from sklearn.datasets import make_blobs\n",
    "import pandas as pd\n",
    "import numpy as np\n",
    "import math\n",
    "import scipy as sp\n",
    "import seaborn as sns\n",
    "import matplotlib.pylab as plt\n",
    "from sklearn.cluster import KMeans\n"
   ]
  },
  {
   "cell_type": "markdown",
   "id": "0a77f945",
   "metadata": {},
   "source": [
    "### 2그룹"
   ]
  },
  {
   "cell_type": "code",
   "execution_count": 35,
   "id": "afd9d12c",
   "metadata": {},
   "outputs": [
    {
     "data": {
      "text/plain": [
       "<AxesSubplot:xlabel='Hours', ylabel='Scores'>"
      ]
     },
     "execution_count": 35,
     "metadata": {},
     "output_type": "execute_result"
    },
    {
     "data": {
      "image/png": "[encoded data removed]",
      "text/plain": [
       "<Figure size 432x288 with 1 Axes>"
      ]
     },
     "metadata": {
      "needs_background": "light"
     },
     "output_type": "display_data"
    }
   ],
   "source": [
    "kmeans = KMeans(n_clusters=2)\n",
    "kmeans.fit(df)\n",
    "result_by_sklearn = df.copy()\n",
    "result_by_sklearn['cluster'] = kmeans.labels_\n",
    "sns.scatterplot(x=df['Hours'],y=df['Scores'],hue=\"cluster\", data = result_by_sklearn, palette=\"Set2\")"
   ]
  },
  {
   "cell_type": "markdown",
   "id": "17b0d9f6",
   "metadata": {},
   "source": [
    "### 3그룹"
   ]
  },
  {
   "cell_type": "code",
   "execution_count": 32,
   "id": "3dcb0b08",
   "metadata": {},
   "outputs": [
    {
     "data": {
      "text/plain": [
       "<AxesSubplot:xlabel='Hours', ylabel='Scores'>"
      ]
     },
     "execution_count": 32,
     "metadata": {},
     "output_type": "execute_result"
    },
    {
     "data": {
      "image/png": "[encoded data removed]",
      "text/plain": [
       "<Figure size 432x288 with 1 Axes>"
      ]
     },
     "metadata": {
      "needs_background": "light"
     },
     "output_type": "display_data"
    }
   ],
   "source": [
    "kmeans = KMeans(n_clusters=3)\n",
    "kmeans.fit(df)\n",
    "result_by_sklearn = df.copy()\n",
    "result_by_sklearn['cluster'] = kmeans.labels_\n",
    "sns.scatterplot(x=df['Hours'],y=df['Scores'],hue=\"cluster\", data = result_by_sklearn, palette=\"Set2\")"
   ]
  },
  {
   "cell_type": "markdown",
   "id": "fc8315bb",
   "metadata": {},
   "source": [
    "### 4그룹 "
   ]
  },
  {
   "cell_type": "code",
   "execution_count": 33,
   "id": "97cd40d4",
   "metadata": {},
   "outputs": [
    {
     "data": {
      "text/plain": [
       "<AxesSubplot:xlabel='Hours', ylabel='Scores'>"
      ]
     },
     "execution_count": 33,
     "metadata": {},
     "output_type": "execute_result"
    },
    {
     "data": {
      "image/png": "[encoded data removed]",
      "text/plain": [
       "<Figure size 432x288 with 1 Axes>"
      ]
     },
     "metadata": {
      "needs_background": "light"
     },
     "output_type": "display_data"
    }
   ],
   "source": [
    "kmeans = KMeans(n_clusters=4)\n",
    "kmeans.fit(df)\n",
    "result_by_sklearn = df.copy()\n",
    "result_by_sklearn['cluster'] = kmeans.labels_\n",
    "sns.scatterplot(x=df['Hours'],y=df['Scores'],hue=\"cluster\", data = result_by_sklearn, palette=\"Set2\")"
   ]
  },
  {
   "cell_type": "markdown",
   "id": "4195ad99",
   "metadata": {},
   "source": [
    "여러 그룹으로 나누어 본 결과 학생들을 3그룹으로 나누어 교육시키는 것이 효율적이라 판단된다.\n",
    "3그룹을 상, 중, 하 반으로 나눠 수준에 맞게 그리고 집중할 수 있는 시간에 맞게 교육하는 것이 효율적이라 판단된다."
   ]
  }
 ],
 "metadata": {
  "kernelspec": {
   "display_name": "Python 3 (ipykernel)",
   "language": "python",
   "name": "python3"
  },
  "language_info": {
   "codemirror_mode": {
    "name": "ipython",
    "version": 3
   },
   "file_extension": ".py",
   "mimetype": "text/x-python",
   "name": "python",
   "nbconvert_exporter": "python",
   "pygments_lexer": "ipython3",
   "version": "3.9.12"
  }
 },
 "nbformat": 4,
 "nbformat_minor": 5
}

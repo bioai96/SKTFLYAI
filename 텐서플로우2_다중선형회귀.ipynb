{
  "cells": [
    {
      "cell_type": "markdown",
      "metadata": {
        "id": "view-in-github",
        "colab_type": "text"
      },
      "source": [
        "<a href=\"https://colab.research.google.com/github/bioai96/SKTFLYAI/blob/main/%ED%85%90%EC%84%9C%ED%94%8C%EB%A1%9C%EC%9A%B02_%EB%8B%A4%EC%A4%91%EC%84%A0%ED%98%95%ED%9A%8C%EA%B7%80.ipynb\" target=\"_parent\"><img src=\"https://colab.research.google.com/assets/colab-badge.svg\" alt=\"Open In Colab\"/></a>"
      ]
    },
    {
      "cell_type": "markdown",
      "id": "0459c35c-45c5-46ee-bdbd-3c83de0342e6",
      "metadata": {
        "id": "0459c35c-45c5-46ee-bdbd-3c83de0342e6"
      },
      "source": [
        "# 주제 : 다중 선형회귀 (Multiple Linear Regression)\n",
        "---"
      ]
    },
    {
      "cell_type": "markdown",
      "id": "59d40881-1f52-4783-b7f1-e944134ab740",
      "metadata": {
        "id": "59d40881-1f52-4783-b7f1-e944134ab740"
      },
      "source": [
        "* 독립 변수가 2개 이상인 데이터의 선형 회귀문제"
      ]
    },
    {
      "cell_type": "markdown",
      "id": "d5bade6a-81f6-46c1-ad4d-044e0bfafda8",
      "metadata": {
        "id": "d5bade6a-81f6-46c1-ad4d-044e0bfafda8"
      },
      "source": [
        "### 문제 1. 라이브러리"
      ]
    },
    {
      "cell_type": "code",
      "source": [
        "!pip install --upgrade tensorflow"
      ],
      "metadata": {
        "colab": {
          "base_uri": "https://localhost:8080/",
          "height": 1000
        },
        "id": "_H7e_yIH6SfV",
        "outputId": "d9d82801-8889-4f2d-e734-f7845b4ae47b"
      },
      "id": "_H7e_yIH6SfV",
      "execution_count": 2,
      "outputs": [
        {
          "output_type": "stream",
          "name": "stdout",
          "text": [
            "Looking in indexes: https://pypi.org/simple, https://us-python.pkg.dev/colab-wheels/public/simple/\n",
            "Requirement already satisfied: tensorflow in /usr/local/lib/python3.7/dist-packages (2.8.2+zzzcolab20220719082949)\n",
            "Collecting tensorflow\n",
            "  Downloading tensorflow-2.9.1-cp37-cp37m-manylinux_2_17_x86_64.manylinux2014_x86_64.whl (511.7 MB)\n",
            "\u001b[K     |████████████████████████████████| 511.7 MB 6.1 kB/s \n",
            "\u001b[?25hRequirement already satisfied: wrapt>=1.11.0 in /usr/local/lib/python3.7/dist-packages (from tensorflow) (1.14.1)\n",
            "Requirement already satisfied: termcolor>=1.1.0 in /usr/local/lib/python3.7/dist-packages (from tensorflow) (1.1.0)\n",
            "Collecting tensorboard<2.10,>=2.9\n",
            "  Downloading tensorboard-2.9.1-py3-none-any.whl (5.8 MB)\n",
            "\u001b[K     |████████████████████████████████| 5.8 MB 49.8 MB/s \n",
            "\u001b[?25hRequirement already satisfied: astunparse>=1.6.0 in /usr/local/lib/python3.7/dist-packages (from tensorflow) (1.6.3)\n",
            "Collecting keras<2.10.0,>=2.9.0rc0\n",
            "  Downloading keras-2.9.0-py2.py3-none-any.whl (1.6 MB)\n",
            "\u001b[K     |████████████████████████████████| 1.6 MB 65.0 MB/s \n",
            "\u001b[?25hRequirement already satisfied: protobuf<3.20,>=3.9.2 in /usr/local/lib/python3.7/dist-packages (from tensorflow) (3.17.3)\n",
            "Requirement already satisfied: google-pasta>=0.1.1 in /usr/local/lib/python3.7/dist-packages (from tensorflow) (0.2.0)\n",
            "Requirement already satisfied: numpy>=1.20 in /usr/local/lib/python3.7/dist-packages (from tensorflow) (1.21.6)\n",
            "Requirement already satisfied: libclang>=13.0.0 in /usr/local/lib/python3.7/dist-packages (from tensorflow) (14.0.1)\n",
            "Collecting gast<=0.4.0,>=0.2.1\n",
            "  Downloading gast-0.4.0-py3-none-any.whl (9.8 kB)\n",
            "Requirement already satisfied: grpcio<2.0,>=1.24.3 in /usr/local/lib/python3.7/dist-packages (from tensorflow) (1.47.0)\n",
            "Collecting flatbuffers<2,>=1.12\n",
            "  Downloading flatbuffers-1.12-py2.py3-none-any.whl (15 kB)\n",
            "Requirement already satisfied: h5py>=2.9.0 in /usr/local/lib/python3.7/dist-packages (from tensorflow) (3.1.0)\n",
            "Requirement already satisfied: setuptools in /usr/local/lib/python3.7/dist-packages (from tensorflow) (57.4.0)\n",
            "Requirement already satisfied: six>=1.12.0 in /usr/local/lib/python3.7/dist-packages (from tensorflow) (1.15.0)\n",
            "Requirement already satisfied: keras-preprocessing>=1.1.1 in /usr/local/lib/python3.7/dist-packages (from tensorflow) (1.1.2)\n",
            "Collecting tensorflow-estimator<2.10.0,>=2.9.0rc0\n",
            "  Downloading tensorflow_estimator-2.9.0-py2.py3-none-any.whl (438 kB)\n",
            "\u001b[K     |████████████████████████████████| 438 kB 76.4 MB/s \n",
            "\u001b[?25hRequirement already satisfied: opt-einsum>=2.3.2 in /usr/local/lib/python3.7/dist-packages (from tensorflow) (3.3.0)\n",
            "Requirement already satisfied: packaging in /usr/local/lib/python3.7/dist-packages (from tensorflow) (21.3)\n",
            "Requirement already satisfied: absl-py>=1.0.0 in /usr/local/lib/python3.7/dist-packages (from tensorflow) (1.2.0)\n",
            "Requirement already satisfied: typing-extensions>=3.6.6 in /usr/local/lib/python3.7/dist-packages (from tensorflow) (4.1.1)\n",
            "Requirement already satisfied: tensorflow-io-gcs-filesystem>=0.23.1 in /usr/local/lib/python3.7/dist-packages (from tensorflow) (0.26.0)\n",
            "Requirement already satisfied: wheel<1.0,>=0.23.0 in /usr/local/lib/python3.7/dist-packages (from astunparse>=1.6.0->tensorflow) (0.37.1)\n",
            "Requirement already satisfied: cached-property in /usr/local/lib/python3.7/dist-packages (from h5py>=2.9.0->tensorflow) (1.5.2)\n",
            "Requirement already satisfied: google-auth-oauthlib<0.5,>=0.4.1 in /usr/local/lib/python3.7/dist-packages (from tensorboard<2.10,>=2.9->tensorflow) (0.4.6)\n",
            "Requirement already satisfied: google-auth<3,>=1.6.3 in /usr/local/lib/python3.7/dist-packages (from tensorboard<2.10,>=2.9->tensorflow) (1.35.0)\n",
            "Requirement already satisfied: tensorboard-data-server<0.7.0,>=0.6.0 in /usr/local/lib/python3.7/dist-packages (from tensorboard<2.10,>=2.9->tensorflow) (0.6.1)\n",
            "Requirement already satisfied: tensorboard-plugin-wit>=1.6.0 in /usr/local/lib/python3.7/dist-packages (from tensorboard<2.10,>=2.9->tensorflow) (1.8.1)\n",
            "Requirement already satisfied: markdown>=2.6.8 in /usr/local/lib/python3.7/dist-packages (from tensorboard<2.10,>=2.9->tensorflow) (3.4.1)\n",
            "Requirement already satisfied: requests<3,>=2.21.0 in /usr/local/lib/python3.7/dist-packages (from tensorboard<2.10,>=2.9->tensorflow) (2.23.0)\n",
            "Requirement already satisfied: werkzeug>=1.0.1 in /usr/local/lib/python3.7/dist-packages (from tensorboard<2.10,>=2.9->tensorflow) (1.0.1)\n",
            "Requirement already satisfied: cachetools<5.0,>=2.0.0 in /usr/local/lib/python3.7/dist-packages (from google-auth<3,>=1.6.3->tensorboard<2.10,>=2.9->tensorflow) (4.2.4)\n",
            "Requirement already satisfied: rsa<5,>=3.1.4 in /usr/local/lib/python3.7/dist-packages (from google-auth<3,>=1.6.3->tensorboard<2.10,>=2.9->tensorflow) (4.9)\n",
            "Requirement already satisfied: pyasn1-modules>=0.2.1 in /usr/local/lib/python3.7/dist-packages (from google-auth<3,>=1.6.3->tensorboard<2.10,>=2.9->tensorflow) (0.2.8)\n",
            "Requirement already satisfied: requests-oauthlib>=0.7.0 in /usr/local/lib/python3.7/dist-packages (from google-auth-oauthlib<0.5,>=0.4.1->tensorboard<2.10,>=2.9->tensorflow) (1.3.1)\n",
            "Requirement already satisfied: importlib-metadata>=4.4 in /usr/local/lib/python3.7/dist-packages (from markdown>=2.6.8->tensorboard<2.10,>=2.9->tensorflow) (4.12.0)\n",
            "Requirement already satisfied: zipp>=0.5 in /usr/local/lib/python3.7/dist-packages (from importlib-metadata>=4.4->markdown>=2.6.8->tensorboard<2.10,>=2.9->tensorflow) (3.8.1)\n",
            "Requirement already satisfied: pyasn1<0.5.0,>=0.4.6 in /usr/local/lib/python3.7/dist-packages (from pyasn1-modules>=0.2.1->google-auth<3,>=1.6.3->tensorboard<2.10,>=2.9->tensorflow) (0.4.8)\n",
            "Requirement already satisfied: chardet<4,>=3.0.2 in /usr/local/lib/python3.7/dist-packages (from requests<3,>=2.21.0->tensorboard<2.10,>=2.9->tensorflow) (3.0.4)\n",
            "Requirement already satisfied: urllib3!=1.25.0,!=1.25.1,<1.26,>=1.21.1 in /usr/local/lib/python3.7/dist-packages (from requests<3,>=2.21.0->tensorboard<2.10,>=2.9->tensorflow) (1.24.3)\n",
            "Requirement already satisfied: certifi>=2017.4.17 in /usr/local/lib/python3.7/dist-packages (from requests<3,>=2.21.0->tensorboard<2.10,>=2.9->tensorflow) (2022.6.15)\n",
            "Requirement already satisfied: idna<3,>=2.5 in /usr/local/lib/python3.7/dist-packages (from requests<3,>=2.21.0->tensorboard<2.10,>=2.9->tensorflow) (2.10)\n",
            "Requirement already satisfied: oauthlib>=3.0.0 in /usr/local/lib/python3.7/dist-packages (from requests-oauthlib>=0.7.0->google-auth-oauthlib<0.5,>=0.4.1->tensorboard<2.10,>=2.9->tensorflow) (3.2.0)\n",
            "Requirement already satisfied: pyparsing!=3.0.5,>=2.0.2 in /usr/local/lib/python3.7/dist-packages (from packaging->tensorflow) (3.0.9)\n",
            "Installing collected packages: tensorflow-estimator, tensorboard, keras, gast, flatbuffers, tensorflow\n",
            "  Attempting uninstall: tensorflow-estimator\n",
            "    Found existing installation: tensorflow-estimator 2.8.0\n",
            "    Uninstalling tensorflow-estimator-2.8.0:\n",
            "      Successfully uninstalled tensorflow-estimator-2.8.0\n",
            "  Attempting uninstall: tensorboard\n",
            "    Found existing installation: tensorboard 2.8.0\n",
            "    Uninstalling tensorboard-2.8.0:\n",
            "      Successfully uninstalled tensorboard-2.8.0\n",
            "  Attempting uninstall: keras\n",
            "    Found existing installation: keras 2.8.0\n",
            "    Uninstalling keras-2.8.0:\n",
            "      Successfully uninstalled keras-2.8.0\n",
            "  Attempting uninstall: gast\n",
            "    Found existing installation: gast 0.5.3\n",
            "    Uninstalling gast-0.5.3:\n",
            "      Successfully uninstalled gast-0.5.3\n",
            "  Attempting uninstall: flatbuffers\n",
            "    Found existing installation: flatbuffers 2.0\n",
            "    Uninstalling flatbuffers-2.0:\n",
            "      Successfully uninstalled flatbuffers-2.0\n",
            "  Attempting uninstall: tensorflow\n",
            "    Found existing installation: tensorflow 2.8.2+zzzcolab20220719082949\n",
            "    Uninstalling tensorflow-2.8.2+zzzcolab20220719082949:\n",
            "      Successfully uninstalled tensorflow-2.8.2+zzzcolab20220719082949\n",
            "Successfully installed flatbuffers-1.12 gast-0.4.0 keras-2.9.0 tensorboard-2.9.1 tensorflow-2.9.1 tensorflow-estimator-2.9.0\n"
          ]
        },
        {
          "output_type": "display_data",
          "data": {
            "application/vnd.colab-display-data+json": {
              "pip_warning": {
                "packages": [
                  "flatbuffers",
                  "gast",
                  "keras",
                  "tensorboard",
                  "tensorflow",
                  "tensorflow_estimator"
                ]
              }
            }
          },
          "metadata": {}
        }
      ]
    },
    {
      "cell_type": "code",
      "execution_count": 3,
      "id": "c63440f8-ef13-4474-ac49-4b27ab6f84d3",
      "metadata": {
        "id": "c63440f8-ef13-4474-ac49-4b27ab6f84d3"
      },
      "outputs": [],
      "source": [
        "import tensorflow as tf"
      ]
    },
    {
      "cell_type": "code",
      "execution_count": 4,
      "id": "276645b0-3d6e-4644-99a5-6879291ce5c4",
      "metadata": {
        "id": "276645b0-3d6e-4644-99a5-6879291ce5c4",
        "colab": {
          "base_uri": "https://localhost:8080/"
        },
        "outputId": "7c065935-6b33-4ce1-f942-c5cef33d9011"
      },
      "outputs": [
        {
          "output_type": "stream",
          "name": "stdout",
          "text": [
            "2.8.2\n"
          ]
        }
      ],
      "source": [
        "print(tf.__version__)"
      ]
    },
    {
      "cell_type": "code",
      "source": [
        "import numpy as np \n",
        "import pandas as pd \n",
        "import matplotlib.pyplot as plt\n",
        "\n",
        "import warnings \n",
        "warnings.filterwarnings(action='ignore')"
      ],
      "metadata": {
        "id": "G3Fnwsyc6cG6"
      },
      "id": "G3Fnwsyc6cG6",
      "execution_count": 5,
      "outputs": []
    },
    {
      "cell_type": "markdown",
      "id": "207ed436-b577-4caf-aa99-4f7b0277a8b9",
      "metadata": {
        "id": "207ed436-b577-4caf-aa99-4f7b0277a8b9"
      },
      "source": [
        "### 문제 2. 데이터 만들기"
      ]
    },
    {
      "cell_type": "code",
      "execution_count": 6,
      "id": "0da9b7e2-d4bf-482a-b235-80d3a0a0d553",
      "metadata": {
        "id": "0da9b7e2-d4bf-482a-b235-80d3a0a0d553"
      },
      "outputs": [],
      "source": [
        "x1_data = [1,0,3,0,5]\n",
        "x2_data = [0,2,0,4,0]\n",
        "y_data = [1,2,3,4,5]"
      ]
    },
    {
      "cell_type": "markdown",
      "id": "aa620daa-ea20-4d4b-9756-39d552daa5de",
      "metadata": {
        "id": "aa620daa-ea20-4d4b-9756-39d552daa5de"
      },
      "source": [
        "### 문제 3. 경사하강법"
      ]
    },
    {
      "cell_type": "markdown",
      "id": "26bd0c3c-1338-4df9-b03e-9995dded0a2e",
      "metadata": {
        "id": "26bd0c3c-1338-4df9-b03e-9995dded0a2e"
      },
      "source": [
        "가설: $$  \\hat{y}=W_1x_1 + W_2x_2 +b  $$"
      ]
    },
    {
      "cell_type": "markdown",
      "id": "9f9fc05a-c2b0-44e2-9e48-424293f9e50a",
      "metadata": {
        "id": "9f9fc05a-c2b0-44e2-9e48-424293f9e50a"
      },
      "source": [
        "#### 변수 초기화"
      ]
    },
    {
      "cell_type": "code",
      "execution_count": 7,
      "id": "fb06eec9-f7c9-488a-a4c8-92eff292e5e7",
      "metadata": {
        "id": "fb06eec9-f7c9-488a-a4c8-92eff292e5e7"
      },
      "outputs": [],
      "source": [
        "W1 = tf.Variable(tf.random.uniform((1,),-10.0, 10.0))\n",
        "W2 = tf.Variable(tf.random.uniform((1,),-10.0, 10.0))\n",
        "b = tf.Variable(tf.random.uniform((1,),-10.0, 10.0))\n",
        "\n",
        "learning_rate = tf.constant(0.001)\n",
        "epochs = 1000\n",
        "costs = []"
      ]
    },
    {
      "cell_type": "code",
      "execution_count": 8,
      "id": "e0b1f5d8-f4bc-4933-b85c-14f0f2166ad5",
      "metadata": {
        "id": "e0b1f5d8-f4bc-4933-b85c-14f0f2166ad5",
        "colab": {
          "base_uri": "https://localhost:8080/"
        },
        "outputId": "0a344768-f760-4090-d3f6-c7e41420907c"
      },
      "outputs": [
        {
          "output_type": "stream",
          "name": "stdout",
          "text": [
            "[3.521719] [6.042965] [-5.002668]\n"
          ]
        }
      ],
      "source": [
        "# 가중치가 배열 형태 \n",
        "\n",
        "print(W1.numpy(), W2.numpy(), b.numpy())"
      ]
    },
    {
      "cell_type": "markdown",
      "id": "5e7f2784-0408-4890-81ce-506fdae26211",
      "metadata": {
        "id": "5e7f2784-0408-4890-81ce-506fdae26211"
      },
      "source": [
        "#### 경사하강법"
      ]
    },
    {
      "cell_type": "code",
      "execution_count": 12,
      "id": "717a4c2b-6433-432e-9190-3749215ef911",
      "metadata": {
        "id": "717a4c2b-6433-432e-9190-3749215ef911",
        "colab": {
          "base_uri": "https://localhost:8080/"
        },
        "outputId": "61385075-b389-43a0-b78d-c43ba15ea294"
      },
      "outputs": [
        {
          "output_type": "stream",
          "name": "stdout",
          "text": [
            "    0 | 64.082985 | 3.4874 | 5.9865 | -5.02487\n",
            "   50 | 27.451115 | 2.9138 | 4.8585 | -5.41795\n",
            "  100 | 14.474759 | 2.6652 | 4.1307 | -5.60241\n",
            "  150 | 9.467773 | 2.5575 | 3.6555 | -5.67271\n",
            "  200 | 7.379491 | 2.5085 | 3.3408 | -5.67911\n",
            "  250 | 6.425639 | 2.4823 | 3.1287 | -5.64908\n",
            "  300 | 5.930627 | 2.4638 | 2.9826 | -5.598\n",
            "  350 | 5.626806 | 2.4471 | 2.8791 | -5.53472\n",
            "  400 | 5.405212 | 2.4301 | 2.8032 | -5.46445\n",
            "  450 | 5.220773 | 2.4122 | 2.7452 | -5.39029\n",
            "  500 | 5.054644 | 2.3936 | 2.6989 | -5.31414\n",
            "  550 | 4.898855 | 2.3744 | 2.6603 | -5.23719\n",
            "  600 | 4.749992 | 2.3549 | 2.6268 | -5.16014\n",
            "  650 | 4.606548 | 2.3352 | 2.5968 | -5.08345\n",
            "  700 | 4.467813 | 2.3156 | 2.5691 | -5.00742\n",
            "  750 | 4.333414 | 2.2961 | 2.5431 | -4.9322\n",
            "  800 | 4.203122 | 2.2767 | 2.5182 | -4.85791\n",
            "  850 | 4.076775 | 2.2575 | 2.4943 | -4.7846\n",
            "  900 | 3.954238 | 2.2386 | 2.4710 | -4.71232\n",
            "  950 | 3.835389 | 2.2199 | 2.4484 | -4.64107\n",
            " 1000 | 3.720115 | 2.2015 | 2.4262 | -4.57086\n"
          ]
        }
      ],
      "source": [
        "for i in range(epochs+1) :\n",
        "  with tf.GradientTape() as tape :\n",
        "    hypothesis = W1 * x1_data + W2 * x2_data + b \n",
        "    cost = tf.reduce_mean(tf.square(hypothesis - y_data))\n",
        "    costs.append(cost.numpy())\n",
        "  \n",
        "  W1_grad, W2_grad, b_grad = tape.gradient(cost, [W1,W2,b])\n",
        "  W1.assign_sub(learning_rate * W1_grad)\n",
        "  W2.assign_sub(learning_rate * W2_grad)\n",
        "  b.assign_sub(learning_rate * b_grad)\n",
        "\n",
        "  if i % 50 == 0 :\n",
        "    print(\"{:5} | {:.6f} | {:.4f} | {:.4f} | {:.6}\".format(i, cost.numpy(), W1.numpy()[0], W2.numpy()[0], b.numpy()[0]))"
      ]
    },
    {
      "cell_type": "markdown",
      "id": "eb4fa8aa-8482-4bb8-8b01-0a1a31325bf1",
      "metadata": {
        "id": "eb4fa8aa-8482-4bb8-8b01-0a1a31325bf1"
      },
      "source": [
        "#### 비용 변환 시각화"
      ]
    },
    {
      "cell_type": "markdown",
      "id": "aef8f983-4b8b-434e-93b1-df08fa8a047f",
      "metadata": {
        "id": "aef8f983-4b8b-434e-93b1-df08fa8a047f"
      },
      "source": [
        "학습이 진행되면서 Cost가 어떻게 변화하는지 그래프로 표시해보자"
      ]
    },
    {
      "cell_type": "code",
      "execution_count": 14,
      "id": "9ef0d4a4-c298-4f3d-83b8-d395afe04f31",
      "metadata": {
        "id": "9ef0d4a4-c298-4f3d-83b8-d395afe04f31",
        "colab": {
          "base_uri": "https://localhost:8080/",
          "height": 442
        },
        "outputId": "4b0eda25-c155-417d-b087-3b63856835ba"
      },
      "outputs": [
        {
          "output_type": "display_data",
          "data": {
            "text/plain": [
              "<Figure size 720x504 with 1 Axes>"
            ],
            "image/png": "[encoded data removed]"
          },
          "metadata": {
            "needs_background": "light"
          }
        }
      ],
      "source": [
        "plt.figure(figsize=(10,7))\n",
        "plt.plot(costs)\n",
        "plt.xlabel(\"epochs\")\n",
        "plt.ylabel(\"cost\")\n",
        "plt.show()"
      ]
    },
    {
      "cell_type": "markdown",
      "id": "8588a177-f7f3-4f39-865a-1c06b97cdbba",
      "metadata": {
        "id": "8588a177-f7f3-4f39-865a-1c06b97cdbba"
      },
      "source": [
        "### 문제 4. 연습문제"
      ]
    },
    {
      "cell_type": "markdown",
      "id": "4d90f9ec-991f-43ee-8ae4-ed48fb82549b",
      "metadata": {
        "id": "4d90f9ec-991f-43ee-8ae4-ed48fb82549b"
      },
      "source": [
        "아래의 데이터로 다중 선형회귀의 문제를 풀어보세요"
      ]
    },
    {
      "cell_type": "code",
      "execution_count": null,
      "id": "3677ba02-1b47-4474-9911-4677c1e9d536",
      "metadata": {
        "id": "3677ba02-1b47-4474-9911-4677c1e9d536"
      },
      "outputs": [],
      "source": [
        ""
      ]
    },
    {
      "cell_type": "markdown",
      "id": "c2db3a2f-3542-463c-8ac7-2b47b8ffab3c",
      "metadata": {
        "id": "c2db3a2f-3542-463c-8ac7-2b47b8ffab3c"
      },
      "source": [
        "### 문제 1. 데이터 만들기"
      ]
    },
    {
      "cell_type": "markdown",
      "id": "c54ea3d0-de44-41cd-b95f-f18f969e8236",
      "metadata": {
        "id": "c54ea3d0-de44-41cd-b95f-f18f969e8236"
      },
      "source": [
        "* 독립 변수가 3개인 다중 회귀문제 "
      ]
    },
    {
      "cell_type": "code",
      "execution_count": null,
      "id": "d52e56b8-3a8c-4288-a0c9-8bb89bda484f",
      "metadata": {
        "id": "d52e56b8-3a8c-4288-a0c9-8bb89bda484f"
      },
      "outputs": [],
      "source": [
        ""
      ]
    },
    {
      "cell_type": "markdown",
      "id": "495502f3-a128-4d67-bd6e-9c33a160a946",
      "metadata": {
        "id": "495502f3-a128-4d67-bd6e-9c33a160a946"
      },
      "source": [
        "### 문제 2. 경사하강법"
      ]
    },
    {
      "cell_type": "code",
      "execution_count": null,
      "id": "dcdc50ba-b0db-4b5e-a418-9406a5e19eb9",
      "metadata": {
        "id": "dcdc50ba-b0db-4b5e-a418-9406a5e19eb9"
      },
      "outputs": [],
      "source": [
        ""
      ]
    },
    {
      "cell_type": "code",
      "execution_count": null,
      "id": "cb848be4-6de7-40ea-84aa-8bc0c881855c",
      "metadata": {
        "id": "cb848be4-6de7-40ea-84aa-8bc0c881855c"
      },
      "outputs": [],
      "source": [
        ""
      ]
    },
    {
      "cell_type": "markdown",
      "id": "1475a383-5839-4c9e-be0e-d74605034267",
      "metadata": {
        "id": "1475a383-5839-4c9e-be0e-d74605034267"
      },
      "source": [
        "#### 경사하강법"
      ]
    },
    {
      "cell_type": "code",
      "execution_count": null,
      "id": "cfce82ff-8699-4e43-b778-2445d4e5261c",
      "metadata": {
        "id": "cfce82ff-8699-4e43-b778-2445d4e5261c"
      },
      "outputs": [],
      "source": [
        ""
      ]
    },
    {
      "cell_type": "markdown",
      "id": "a3662b5a-4eea-4be0-a560-f1e05b9d4f59",
      "metadata": {
        "id": "a3662b5a-4eea-4be0-a560-f1e05b9d4f59"
      },
      "source": [
        "#### 결과 시각화 "
      ]
    },
    {
      "cell_type": "code",
      "execution_count": null,
      "id": "4b9de1ca-c66b-4f7b-9d49-700ccdf32d7d",
      "metadata": {
        "id": "4b9de1ca-c66b-4f7b-9d49-700ccdf32d7d"
      },
      "outputs": [],
      "source": [
        ""
      ]
    },
    {
      "cell_type": "markdown",
      "id": "ad5da625-5b84-4c96-a5aa-c336442a3178",
      "metadata": {
        "id": "ad5da625-5b84-4c96-a5aa-c336442a3178"
      },
      "source": [
        "끝"
      ]
    },
    {
      "cell_type": "code",
      "execution_count": null,
      "id": "d4c73a5c-771a-4900-a94f-855727a9b6c3",
      "metadata": {
        "id": "d4c73a5c-771a-4900-a94f-855727a9b6c3"
      },
      "outputs": [],
      "source": [
        ""
      ]
    }
  ],
  "metadata": {
    "kernelspec": {
      "display_name": "myml",
      "language": "python",
      "name": "myml"
    },
    "language_info": {
      "codemirror_mode": {
        "name": "ipython",
        "version": 3
      },
      "file_extension": ".py",
      "mimetype": "text/x-python",
      "name": "python",
      "nbconvert_exporter": "python",
      "pygments_lexer": "ipython3",
      "version": "3.8.0"
    },
    "colab": {
      "name": "텐서플로우2-다중선형회귀.ipynb",
      "provenance": [],
      "collapsed_sections": [],
      "include_colab_link": true
    }
  },
  "nbformat": 4,
  "nbformat_minor": 5
}
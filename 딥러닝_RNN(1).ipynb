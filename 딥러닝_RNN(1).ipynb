{
  "nbformat": 4,
  "nbformat_minor": 0,
  "metadata": {
    "colab": {
      "name": "딥러닝-RNN(1)",
      "provenance": [],
      "authorship_tag": "ABX9TyPJ8LoAXawWWTSjMsucVT4P",
      "include_colab_link": true
    },
    "kernelspec": {
      "name": "python3",
      "display_name": "Python 3"
    },
    "language_info": {
      "name": "python"
    },
    "accelerator": "GPU",
    "gpuClass": "standard"
  },
  "cells": [
    {
      "cell_type": "markdown",
      "metadata": {
        "id": "view-in-github",
        "colab_type": "text"
      },
      "source": [
        "<a href=\"https://colab.research.google.com/github/bioai96/SKTFLYAI/blob/main/%EB%94%A5%EB%9F%AC%EB%8B%9D_RNN(1).ipynb\" target=\"_parent\"><img src=\"https://colab.research.google.com/assets/colab-badge.svg\" alt=\"Open In Colab\"/></a>"
      ]
    },
    {
      "cell_type": "markdown",
      "source": [
        "## LSTM을 이용해 로이터 뉴스 카테고리 분석학 "
      ],
      "metadata": {
        "id": "fT-mHPAIfw0n"
      }
    },
    {
      "cell_type": "code",
      "execution_count": 16,
      "metadata": {
        "id": "pnPHXrm7bwqd"
      },
      "outputs": [],
      "source": [
        "from tensorflow.keras.models import Sequential\n",
        "from tensorflow.keras.layers import Dense, LSTM, Embedding\n",
        "from tensorflow.keras.utils import to_categorical\n",
        "from tensorflow.keras.preprocessing import sequence\n",
        "from tensorflow.keras.datasets import reuters\n",
        "from tensorflow.keras.callbacks import EarlyStopping\n",
        "\n",
        "import numpy as np\n",
        "import matplotlib.pyplot as plt"
      ]
    },
    {
      "cell_type": "code",
      "source": [
        "# 데이터를 불러와 학습셋, 테스트셋으로 나눕니다.\n",
        "(x_train, y_train),(x_test, y_test) = reuters.load_data(num_words=1000,test_split=0.2)"
      ],
      "metadata": {
        "id": "ZJeL2hExg7mc"
      },
      "execution_count": 17,
      "outputs": []
    },
    {
      "cell_type": "code",
      "source": [
        "category = np.max(y_train) + 1\n",
        "print(category, '카테고리')\n",
        "print(len(x_train), '학습용 뉴스 기사')\n",
        "print(len(x_test), '테스트용 뉴스 기사')\n",
        "print(x_train[0])\n"
      ],
      "metadata": {
        "colab": {
          "base_uri": "https://localhost:8080/"
        },
        "id": "bpBeWU4_hLWY",
        "outputId": "b5316815-3952-41fd-de1e-d1948784601d"
      },
      "execution_count": 18,
      "outputs": [
        {
          "output_type": "stream",
          "name": "stdout",
          "text": [
            "46 카테고리\n",
            "8982 학습용 뉴스 기사\n",
            "2246 테스트용 뉴스 기사\n",
            "[1, 2, 2, 8, 43, 10, 447, 5, 25, 207, 270, 5, 2, 111, 16, 369, 186, 90, 67, 7, 89, 5, 19, 102, 6, 19, 124, 15, 90, 67, 84, 22, 482, 26, 7, 48, 4, 49, 8, 864, 39, 209, 154, 6, 151, 6, 83, 11, 15, 22, 155, 11, 15, 7, 48, 9, 2, 2, 504, 6, 258, 6, 272, 11, 15, 22, 134, 44, 11, 15, 16, 8, 197, 2, 90, 67, 52, 29, 209, 30, 32, 132, 6, 109, 15, 17, 12]\n"
          ]
        }
      ]
    },
    {
      "cell_type": "code",
      "source": [
        "# 단어 수 맞추어 주기\n",
        "x_train = sequence.pad_sequences(x_train, maxlen = 100)\n",
        "x_test = sequence.pad_sequences(x_test, maxlen = 100)\n",
        "# 원-핫 인코딩\n",
        "y_train = to_categorical(y_train)\n",
        "y_test = to_categorical(y_test)"
      ],
      "metadata": {
        "id": "iLGprMFWhe42"
      },
      "execution_count": 19,
      "outputs": []
    },
    {
      "cell_type": "code",
      "source": [
        "# 모델구조 설정\n",
        "model = Sequential()\n",
        "model.add(Embedding(1000,100)) #1000 = 빈도 수,\n",
        "model.add(LSTM(100,activation='tanh'))\n",
        "model.add(Dense(46, activation='softmax')) # 출력\n"
      ],
      "metadata": {
        "id": "iCvMf6blidFZ"
      },
      "execution_count": 20,
      "outputs": []
    },
    {
      "cell_type": "code",
      "source": [
        "#모델 실행 옵션\n",
        "model.compile(loss = 'categorical_crossentropy', optimizer='adam',\n",
        "              metrics=['accuracy'])"
      ],
      "metadata": {
        "id": "XnenN6UBhr32"
      },
      "execution_count": 21,
      "outputs": []
    },
    {
      "cell_type": "code",
      "source": [
        "#학습의 조기 중단 설정\n",
        "early_stopping_callback = EarlyStopping(monitor='val_loss',patience=5)"
      ],
      "metadata": {
        "id": "ClHk_YUekR2k"
      },
      "execution_count": 22,
      "outputs": []
    },
    {
      "cell_type": "code",
      "source": [
        "#모델 실행\n",
        "history = model.fit(x_train, y_train, batch_size=20, epochs=200,\n",
        "                    validation_data=(x_test, y_test), callbacks=[early_stopping_callback])"
      ],
      "metadata": {
        "colab": {
          "base_uri": "https://localhost:8080/"
        },
        "id": "5h-9DzEUjFk4",
        "outputId": "902447d2-1264-4a93-8a04-36d147810ab3"
      },
      "execution_count": 23,
      "outputs": [
        {
          "output_type": "stream",
          "name": "stdout",
          "text": [
            "Epoch 1/200\n",
            "450/450 [==============================] - 11s 10ms/step - loss: 2.2155 - accuracy: 0.4283 - val_loss: 1.8480 - val_accuracy: 0.5312\n",
            "Epoch 2/200\n",
            "450/450 [==============================] - 4s 10ms/step - loss: 1.8019 - accuracy: 0.5323 - val_loss: 1.8199 - val_accuracy: 0.5232\n",
            "Epoch 3/200\n",
            "450/450 [==============================] - 4s 9ms/step - loss: 1.5967 - accuracy: 0.6011 - val_loss: 1.5853 - val_accuracy: 0.6064\n",
            "Epoch 4/200\n",
            "450/450 [==============================] - 4s 9ms/step - loss: 1.3974 - accuracy: 0.6516 - val_loss: 1.4049 - val_accuracy: 0.6549\n",
            "Epoch 5/200\n",
            "450/450 [==============================] - 4s 10ms/step - loss: 1.2572 - accuracy: 0.6800 - val_loss: 1.3982 - val_accuracy: 0.6527\n",
            "Epoch 6/200\n",
            "450/450 [==============================] - 4s 10ms/step - loss: 1.1599 - accuracy: 0.7040 - val_loss: 1.2559 - val_accuracy: 0.6772\n",
            "Epoch 7/200\n",
            "450/450 [==============================] - 4s 9ms/step - loss: 1.0527 - accuracy: 0.7337 - val_loss: 1.2365 - val_accuracy: 0.6999\n",
            "Epoch 8/200\n",
            "450/450 [==============================] - 4s 9ms/step - loss: 0.9687 - accuracy: 0.7572 - val_loss: 1.1771 - val_accuracy: 0.7066\n",
            "Epoch 9/200\n",
            "450/450 [==============================] - 4s 9ms/step - loss: 0.8914 - accuracy: 0.7750 - val_loss: 1.1716 - val_accuracy: 0.7128\n",
            "Epoch 10/200\n",
            "450/450 [==============================] - 4s 9ms/step - loss: 0.8306 - accuracy: 0.7906 - val_loss: 1.1799 - val_accuracy: 0.7119\n",
            "Epoch 11/200\n",
            "450/450 [==============================] - 4s 9ms/step - loss: 0.7649 - accuracy: 0.8058 - val_loss: 1.2180 - val_accuracy: 0.7053\n",
            "Epoch 12/200\n",
            "450/450 [==============================] - 4s 9ms/step - loss: 0.6960 - accuracy: 0.8232 - val_loss: 1.1770 - val_accuracy: 0.7150\n",
            "Epoch 13/200\n",
            "450/450 [==============================] - 4s 8ms/step - loss: 0.6448 - accuracy: 0.8350 - val_loss: 1.1854 - val_accuracy: 0.7204\n",
            "Epoch 14/200\n",
            "450/450 [==============================] - 4s 8ms/step - loss: 0.5954 - accuracy: 0.8486 - val_loss: 1.2320 - val_accuracy: 0.7155\n"
          ]
        }
      ]
    },
    {
      "cell_type": "code",
      "source": [
        "#테스트 정확도 측정\n",
        "print(\"\\n Test Accuracy: %.4f\" % (model.evaluate(x_test, y_test)[1]))"
      ],
      "metadata": {
        "colab": {
          "base_uri": "https://localhost:8080/"
        },
        "id": "4VVVA-G5keuN",
        "outputId": "b736c728-b6e5-4bab-ac51-35450038ef59"
      },
      "execution_count": 24,
      "outputs": [
        {
          "output_type": "stream",
          "name": "stdout",
          "text": [
            "71/71 [==============================] - 0s 4ms/step - loss: 1.2320 - accuracy: 0.7155\n",
            "\n",
            " Test Accuracy: 0.7155\n"
          ]
        }
      ]
    },
    {
      "cell_type": "code",
      "source": [
        "#학습셋과 테스트셋의 오차를 저장\n",
        "y_vloss = history.history['val_loss']\n",
        "y_loss = history.history['loss']"
      ],
      "metadata": {
        "id": "hmWQN_psk0jI"
      },
      "execution_count": 26,
      "outputs": []
    },
    {
      "cell_type": "code",
      "source": [
        "#그래프로 표현해 보자\n",
        "x_len = np.arange(len(y_loss))\n",
        "plt.plot(x_len, y_vloss,marker='.', c = 'red', label = 'Testset_loss')\n",
        "plt.plot(x_len, y_loss, marker='.', c = 'blue',label = 'Trainset_loss')\n",
        "\n",
        "plt.legend(loc='upper right')\n",
        "plt.grid()\n",
        "plt.xlabel('epoch')\n",
        "plt.ylabel('loss')\n",
        "plt.show()"
      ],
      "metadata": {
        "colab": {
          "base_uri": "https://localhost:8080/",
          "height": 279
        },
        "id": "ZJJfOYe6l1iD",
        "outputId": "2a8095ab-941c-43e0-8a27-b897261e830a"
      },
      "execution_count": 29,
      "outputs": [
        {
          "output_type": "display_data",
          "data": {
            "text/plain": [
              "<Figure size 432x288 with 1 Axes>"
            ],
            "image/png": "[encoded data removed]"
          },
          "metadata": {
            "needs_background": "light"
          }
        }
      ]
    },
    {
      "cell_type": "code",
      "source": [
        ""
      ],
      "metadata": {
        "id": "pXPJyxqGmdi-"
      },
      "execution_count": null,
      "outputs": []
    }
  ]
}
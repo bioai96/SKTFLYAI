{
  "nbformat": 4,
  "nbformat_minor": 0,
  "metadata": {
    "colab": {
      "name": "와인 데이터 분석 및 검증(중요)",
      "provenance": [],
      "authorship_tag": "ABX9TyOqBNvoqx3qNyltWKMLvOHg",
      "include_colab_link": true
    },
    "kernelspec": {
      "name": "python3",
      "display_name": "Python 3"
    },
    "language_info": {
      "name": "python"
    }
  },
  "cells": [
    {
      "cell_type": "markdown",
      "metadata": {
        "id": "view-in-github",
        "colab_type": "text"
      },
      "source": [
        "<a href=\"https://colab.research.google.com/github/bioai96/SKTFLYAI/blob/main/DL/%EC%99%80%EC%9D%B8_%EB%8D%B0%EC%9D%B4%ED%84%B0_%EB%B6%84%EC%84%9D_%EB%B0%8F_%EA%B2%80%EC%A6%9D(%EC%A4%91%EC%9A%94).ipynb\" target=\"_parent\"><img src=\"https://colab.research.google.com/assets/colab-badge.svg\" alt=\"Open In Colab\"/></a>"
      ]
    },
    {
      "cell_type": "code",
      "execution_count": 1,
      "metadata": {
        "id": "3CnAuPNgYde2"
      },
      "outputs": [],
      "source": [
        "import pandas as pd\n",
        "import seaborn as sns\n",
        "import matplotlib.pyplot as plt\n",
        "from tensorflow.keras.models import Sequential\n",
        "from tensorflow.keras.layers import Dense\n",
        "import numpy as np"
      ]
    },
    {
      "cell_type": "code",
      "source": [
        "!git clone https://github.com/taehojo/data.git"
      ],
      "metadata": {
        "colab": {
          "base_uri": "https://localhost:8080/"
        },
        "id": "5gHGCUgRYidD",
        "outputId": "50feb711-e888-4246-93ed-bb58acadd899"
      },
      "execution_count": 2,
      "outputs": [
        {
          "output_type": "stream",
          "name": "stdout",
          "text": [
            "Cloning into 'data'...\n",
            "remote: Enumerating objects: 21, done.\u001b[K\n",
            "remote: Counting objects: 100% (21/21), done.\u001b[K\n",
            "remote: Compressing objects: 100% (18/18), done.\u001b[K\n",
            "remote: Total 21 (delta 3), reused 20 (delta 2), pack-reused 0\u001b[K\n",
            "Unpacking objects: 100% (21/21), done.\n"
          ]
        }
      ]
    },
    {
      "cell_type": "code",
      "source": [
        "df = pd.read_csv('/content/data/wine.csv',header=None)\n",
        "df.head()"
      ],
      "metadata": {
        "colab": {
          "base_uri": "https://localhost:8080/",
          "height": 206
        },
        "id": "MmoL9524YjzK",
        "outputId": "e7e7ec22-c2d0-4d4b-a940-02b731495ff3"
      },
      "execution_count": 3,
      "outputs": [
        {
          "output_type": "execute_result",
          "data": {
            "text/plain": [
              "     0     1     2    3      4     5     6       7     8     9    10  11  12\n",
              "0   7.4  0.70  0.00  1.9  0.076  11.0  34.0  0.9978  3.51  0.56  9.4   5   1\n",
              "1   7.8  0.88  0.00  2.6  0.098  25.0  67.0  0.9968  3.20  0.68  9.8   5   1\n",
              "2   7.8  0.76  0.04  2.3  0.092  15.0  54.0  0.9970  3.26  0.65  9.8   5   1\n",
              "3  11.2  0.28  0.56  1.9  0.075  17.0  60.0  0.9980  3.16  0.58  9.8   6   1\n",
              "4   7.4  0.70  0.00  1.9  0.076  11.0  34.0  0.9978  3.51  0.56  9.4   5   1"
            ],
            "text/html": [
              "\n",
              "  <div id=\"df-335d9b1a-0bb5-4288-a88d-0f0022f737fa\">\n",
              "    <div class=\"colab-df-container\">\n",
              "      <div>\n",
              "<style scoped>\n",
              "    .dataframe tbody tr th:only-of-type {\n",
              "        vertical-align: middle;\n",
              "    }\n",
              "\n",
              "    .dataframe tbody tr th {\n",
              "        vertical-align: top;\n",
              "    }\n",
              "\n",
              "    .dataframe thead th {\n",
              "        text-align: right;\n",
              "    }\n",
              "</style>\n",
              "<table border=\"1\" class=\"dataframe\">\n",
              "  <thead>\n",
              "    <tr style=\"text-align: right;\">\n",
              "      <th></th>\n",
              "      <th>0</th>\n",
              "      <th>1</th>\n",
              "      <th>2</th>\n",
              "      <th>3</th>\n",
              "      <th>4</th>\n",
              "      <th>5</th>\n",
              "      <th>6</th>\n",
              "      <th>7</th>\n",
              "      <th>8</th>\n",
              "      <th>9</th>\n",
              "      <th>10</th>\n",
              "      <th>11</th>\n",
              "      <th>12</th>\n",
              "    </tr>\n",
              "  </thead>\n",
              "  <tbody>\n",
              "    <tr>\n",
              "      <th>0</th>\n",
              "      <td>7.4</td>\n",
              "      <td>0.70</td>\n",
              "      <td>0.00</td>\n",
              "      <td>1.9</td>\n",
              "      <td>0.076</td>\n",
              "      <td>11.0</td>\n",
              "      <td>34.0</td>\n",
              "      <td>0.9978</td>\n",
              "      <td>3.51</td>\n",
              "      <td>0.56</td>\n",
              "      <td>9.4</td>\n",
              "      <td>5</td>\n",
              "      <td>1</td>\n",
              "    </tr>\n",
              "    <tr>\n",
              "      <th>1</th>\n",
              "      <td>7.8</td>\n",
              "      <td>0.88</td>\n",
              "      <td>0.00</td>\n",
              "      <td>2.6</td>\n",
              "      <td>0.098</td>\n",
              "      <td>25.0</td>\n",
              "      <td>67.0</td>\n",
              "      <td>0.9968</td>\n",
              "      <td>3.20</td>\n",
              "      <td>0.68</td>\n",
              "      <td>9.8</td>\n",
              "      <td>5</td>\n",
              "      <td>1</td>\n",
              "    </tr>\n",
              "    <tr>\n",
              "      <th>2</th>\n",
              "      <td>7.8</td>\n",
              "      <td>0.76</td>\n",
              "      <td>0.04</td>\n",
              "      <td>2.3</td>\n",
              "      <td>0.092</td>\n",
              "      <td>15.0</td>\n",
              "      <td>54.0</td>\n",
              "      <td>0.9970</td>\n",
              "      <td>3.26</td>\n",
              "      <td>0.65</td>\n",
              "      <td>9.8</td>\n",
              "      <td>5</td>\n",
              "      <td>1</td>\n",
              "    </tr>\n",
              "    <tr>\n",
              "      <th>3</th>\n",
              "      <td>11.2</td>\n",
              "      <td>0.28</td>\n",
              "      <td>0.56</td>\n",
              "      <td>1.9</td>\n",
              "      <td>0.075</td>\n",
              "      <td>17.0</td>\n",
              "      <td>60.0</td>\n",
              "      <td>0.9980</td>\n",
              "      <td>3.16</td>\n",
              "      <td>0.58</td>\n",
              "      <td>9.8</td>\n",
              "      <td>6</td>\n",
              "      <td>1</td>\n",
              "    </tr>\n",
              "    <tr>\n",
              "      <th>4</th>\n",
              "      <td>7.4</td>\n",
              "      <td>0.70</td>\n",
              "      <td>0.00</td>\n",
              "      <td>1.9</td>\n",
              "      <td>0.076</td>\n",
              "      <td>11.0</td>\n",
              "      <td>34.0</td>\n",
              "      <td>0.9978</td>\n",
              "      <td>3.51</td>\n",
              "      <td>0.56</td>\n",
              "      <td>9.4</td>\n",
              "      <td>5</td>\n",
              "      <td>1</td>\n",
              "    </tr>\n",
              "  </tbody>\n",
              "</table>\n",
              "</div>\n",
              "      <button class=\"colab-df-convert\" onclick=\"convertToInteractive('df-335d9b1a-0bb5-4288-a88d-0f0022f737fa')\"\n",
              "              title=\"Convert this dataframe to an interactive table.\"\n",
              "              style=\"display:none;\">\n",
              "        \n",
              "  <svg xmlns=\"http://www.w3.org/2000/svg\" height=\"24px\"viewBox=\"0 0 24 24\"\n",
              "       width=\"24px\">\n",
              "    <path d=\"M0 0h24v24H0V0z\" fill=\"none\"/>\n",
              "    <path d=\"M18.56 5.44l.94 2.06.94-2.06 2.06-.94-2.06-.94-.94-2.06-.94 2.06-2.06.94zm-11 1L8.5 8.5l.94-2.06 2.06-.94-2.06-.94L8.5 2.5l-.94 2.06-2.06.94zm10 10l.94 2.06.94-2.06 2.06-.94-2.06-.94-.94-2.06-.94 2.06-2.06.94z\"/><path d=\"M17.41 7.96l-1.37-1.37c-.4-.4-.92-.59-1.43-.59-.52 0-1.04.2-1.43.59L10.3 9.45l-7.72 7.72c-.78.78-.78 2.05 0 2.83L4 21.41c.39.39.9.59 1.41.59.51 0 1.02-.2 1.41-.59l7.78-7.78 2.81-2.81c.8-.78.8-2.07 0-2.86zM5.41 20L4 18.59l7.72-7.72 1.47 1.35L5.41 20z\"/>\n",
              "  </svg>\n",
              "      </button>\n",
              "      \n",
              "  <style>\n",
              "    .colab-df-container {\n",
              "      display:flex;\n",
              "      flex-wrap:wrap;\n",
              "      gap: 12px;\n",
              "    }\n",
              "\n",
              "    .colab-df-convert {\n",
              "      background-color: #E8F0FE;\n",
              "      border: none;\n",
              "      border-radius: 50%;\n",
              "      cursor: pointer;\n",
              "      display: none;\n",
              "      fill: #1967D2;\n",
              "      height: 32px;\n",
              "      padding: 0 0 0 0;\n",
              "      width: 32px;\n",
              "    }\n",
              "\n",
              "    .colab-df-convert:hover {\n",
              "      background-color: #E2EBFA;\n",
              "      box-shadow: 0px 1px 2px rgba(60, 64, 67, 0.3), 0px 1px 3px 1px rgba(60, 64, 67, 0.15);\n",
              "      fill: #174EA6;\n",
              "    }\n",
              "\n",
              "    [theme=dark] .colab-df-convert {\n",
              "      background-color: #3B4455;\n",
              "      fill: #D2E3FC;\n",
              "    }\n",
              "\n",
              "    [theme=dark] .colab-df-convert:hover {\n",
              "      background-color: #434B5C;\n",
              "      box-shadow: 0px 1px 3px 1px rgba(0, 0, 0, 0.15);\n",
              "      filter: drop-shadow(0px 1px 2px rgba(0, 0, 0, 0.3));\n",
              "      fill: #FFFFFF;\n",
              "    }\n",
              "  </style>\n",
              "\n",
              "      <script>\n",
              "        const buttonEl =\n",
              "          document.querySelector('#df-335d9b1a-0bb5-4288-a88d-0f0022f737fa button.colab-df-convert');\n",
              "        buttonEl.style.display =\n",
              "          google.colab.kernel.accessAllowed ? 'block' : 'none';\n",
              "\n",
              "        async function convertToInteractive(key) {\n",
              "          const element = document.querySelector('#df-335d9b1a-0bb5-4288-a88d-0f0022f737fa');\n",
              "          const dataTable =\n",
              "            await google.colab.kernel.invokeFunction('convertToInteractive',\n",
              "                                                     [key], {});\n",
              "          if (!dataTable) return;\n",
              "\n",
              "          const docLinkHtml = 'Like what you see? Visit the ' +\n",
              "            '<a target=\"_blank\" href=https://colab.research.google.com/notebooks/data_table.ipynb>data table notebook</a>'\n",
              "            + ' to learn more about interactive tables.';\n",
              "          element.innerHTML = '';\n",
              "          dataTable['output_type'] = 'display_data';\n",
              "          await google.colab.output.renderOutput(dataTable, element);\n",
              "          const docLink = document.createElement('div');\n",
              "          docLink.innerHTML = docLinkHtml;\n",
              "          element.appendChild(docLink);\n",
              "        }\n",
              "      </script>\n",
              "    </div>\n",
              "  </div>\n",
              "  "
            ]
          },
          "metadata": {},
          "execution_count": 3
        }
      ]
    },
    {
      "cell_type": "code",
      "source": [
        "x = df.iloc[:,0:12]\n",
        "y = df.iloc[:,12]"
      ],
      "metadata": {
        "id": "TCJmKVCdYz6P"
      },
      "execution_count": 4,
      "outputs": []
    },
    {
      "cell_type": "code",
      "source": [
        "!pip install sklearn\n",
        "from sklearn.model_selection import train_test_split\n",
        "x_train, x_test, y_train, y_test = train_test_split(x,y,test_size=0.2,shuffle=True)"
      ],
      "metadata": {
        "colab": {
          "base_uri": "https://localhost:8080/"
        },
        "id": "VIwBb_U8ZfZr",
        "outputId": "e2046f7d-180a-419a-aa59-fb75a3b673aa"
      },
      "execution_count": 6,
      "outputs": [
        {
          "output_type": "stream",
          "name": "stdout",
          "text": [
            "Looking in indexes: https://pypi.org/simple, https://us-python.pkg.dev/colab-wheels/public/simple/\n",
            "Requirement already satisfied: sklearn in /usr/local/lib/python3.7/dist-packages (0.0)\n",
            "Requirement already satisfied: scikit-learn in /usr/local/lib/python3.7/dist-packages (from sklearn) (1.0.2)\n",
            "Requirement already satisfied: numpy>=1.14.6 in /usr/local/lib/python3.7/dist-packages (from scikit-learn->sklearn) (1.21.6)\n",
            "Requirement already satisfied: scipy>=1.1.0 in /usr/local/lib/python3.7/dist-packages (from scikit-learn->sklearn) (1.7.3)\n",
            "Requirement already satisfied: threadpoolctl>=2.0.0 in /usr/local/lib/python3.7/dist-packages (from scikit-learn->sklearn) (3.1.0)\n",
            "Requirement already satisfied: joblib>=0.11 in /usr/local/lib/python3.7/dist-packages (from scikit-learn->sklearn) (1.1.0)\n"
          ]
        }
      ]
    },
    {
      "cell_type": "code",
      "source": [
        "model = Sequential()\n",
        "model.add(Dense(30,input_dim = 12, activation ='relu'))\n",
        "model.add(Dense(12, activation ='relu'))\n",
        "model.add(Dense(8, activation ='relu'))\n",
        "model.add(Dense(1, activation ='sigmoid'))\n",
        "model.summary()\n"
      ],
      "metadata": {
        "colab": {
          "base_uri": "https://localhost:8080/"
        },
        "id": "sqYNGgBZZrKH",
        "outputId": "0375af4c-880b-4fd2-ab80-d34470b8b59d"
      },
      "execution_count": 7,
      "outputs": [
        {
          "output_type": "stream",
          "name": "stdout",
          "text": [
            "Model: \"sequential\"\n",
            "_________________________________________________________________\n",
            " Layer (type)                Output Shape              Param #   \n",
            "=================================================================\n",
            " dense (Dense)               (None, 30)                390       \n",
            "                                                                 \n",
            " dense_1 (Dense)             (None, 12)                372       \n",
            "                                                                 \n",
            " dense_2 (Dense)             (None, 8)                 104       \n",
            "                                                                 \n",
            " dense_3 (Dense)             (None, 1)                 9         \n",
            "                                                                 \n",
            "=================================================================\n",
            "Total params: 875\n",
            "Trainable params: 875\n",
            "Non-trainable params: 0\n",
            "_________________________________________________________________\n"
          ]
        }
      ]
    },
    {
      "cell_type": "code",
      "source": [
        "model.compile(loss = 'binary_crossentropy', optimizer ='adam',\n",
        "              metrics = ['accuracy'])\n",
        "history = model.fit(x_train, y_train, epochs=50, batch_size=500,\n",
        "                    validation_split=0.25)\n"
      ],
      "metadata": {
        "colab": {
          "base_uri": "https://localhost:8080/"
        },
        "id": "RoIjpeeRaFgh",
        "outputId": "33af1982-eedf-4d28-bf38-03edcdc43b52"
      },
      "execution_count": 8,
      "outputs": [
        {
          "output_type": "stream",
          "name": "stdout",
          "text": [
            "Epoch 1/50\n",
            "8/8 [==============================] - 2s 63ms/step - loss: 1.2422 - accuracy: 0.3898 - val_loss: 0.4601 - val_accuracy: 0.8054\n",
            "Epoch 2/50\n",
            "8/8 [==============================] - 0s 12ms/step - loss: 0.3844 - accuracy: 0.7950 - val_loss: 0.3878 - val_accuracy: 0.7869\n",
            "Epoch 3/50\n",
            "8/8 [==============================] - 0s 11ms/step - loss: 0.3805 - accuracy: 0.7942 - val_loss: 0.3972 - val_accuracy: 0.8008\n",
            "Epoch 4/50\n",
            "8/8 [==============================] - 0s 12ms/step - loss: 0.3706 - accuracy: 0.8129 - val_loss: 0.3692 - val_accuracy: 0.8254\n",
            "Epoch 5/50\n",
            "8/8 [==============================] - 0s 12ms/step - loss: 0.3336 - accuracy: 0.8406 - val_loss: 0.3272 - val_accuracy: 0.8554\n",
            "Epoch 6/50\n",
            "8/8 [==============================] - 0s 12ms/step - loss: 0.3006 - accuracy: 0.8655 - val_loss: 0.3132 - val_accuracy: 0.8692\n",
            "Epoch 7/50\n",
            "8/8 [==============================] - 0s 13ms/step - loss: 0.2795 - accuracy: 0.8840 - val_loss: 0.2865 - val_accuracy: 0.8877\n",
            "Epoch 8/50\n",
            "8/8 [==============================] - 0s 13ms/step - loss: 0.2564 - accuracy: 0.9004 - val_loss: 0.2680 - val_accuracy: 0.8946\n",
            "Epoch 9/50\n",
            "8/8 [==============================] - 0s 11ms/step - loss: 0.2356 - accuracy: 0.9117 - val_loss: 0.2511 - val_accuracy: 0.9092\n",
            "Epoch 10/50\n",
            "8/8 [==============================] - 0s 11ms/step - loss: 0.2191 - accuracy: 0.9197 - val_loss: 0.2390 - val_accuracy: 0.9092\n",
            "Epoch 11/50\n",
            "8/8 [==============================] - 0s 11ms/step - loss: 0.2072 - accuracy: 0.9248 - val_loss: 0.2301 - val_accuracy: 0.9123\n",
            "Epoch 12/50\n",
            "8/8 [==============================] - 0s 11ms/step - loss: 0.1994 - accuracy: 0.9302 - val_loss: 0.2259 - val_accuracy: 0.9154\n",
            "Epoch 13/50\n",
            "8/8 [==============================] - 0s 11ms/step - loss: 0.1946 - accuracy: 0.9330 - val_loss: 0.2243 - val_accuracy: 0.9177\n",
            "Epoch 14/50\n",
            "8/8 [==============================] - 0s 14ms/step - loss: 0.1921 - accuracy: 0.9351 - val_loss: 0.2236 - val_accuracy: 0.9192\n",
            "Epoch 15/50\n",
            "8/8 [==============================] - 0s 12ms/step - loss: 0.1899 - accuracy: 0.9361 - val_loss: 0.2224 - val_accuracy: 0.9208\n",
            "Epoch 16/50\n",
            "8/8 [==============================] - 0s 12ms/step - loss: 0.1887 - accuracy: 0.9348 - val_loss: 0.2219 - val_accuracy: 0.9208\n",
            "Epoch 17/50\n",
            "8/8 [==============================] - 0s 13ms/step - loss: 0.1876 - accuracy: 0.9364 - val_loss: 0.2211 - val_accuracy: 0.9200\n",
            "Epoch 18/50\n",
            "8/8 [==============================] - 0s 12ms/step - loss: 0.1867 - accuracy: 0.9366 - val_loss: 0.2198 - val_accuracy: 0.9223\n",
            "Epoch 19/50\n",
            "8/8 [==============================] - 0s 12ms/step - loss: 0.1855 - accuracy: 0.9382 - val_loss: 0.2195 - val_accuracy: 0.9215\n",
            "Epoch 20/50\n",
            "8/8 [==============================] - 0s 13ms/step - loss: 0.1847 - accuracy: 0.9384 - val_loss: 0.2187 - val_accuracy: 0.9215\n",
            "Epoch 21/50\n",
            "8/8 [==============================] - 0s 12ms/step - loss: 0.1835 - accuracy: 0.9384 - val_loss: 0.2164 - val_accuracy: 0.9231\n",
            "Epoch 22/50\n",
            "8/8 [==============================] - 0s 13ms/step - loss: 0.1824 - accuracy: 0.9392 - val_loss: 0.2164 - val_accuracy: 0.9262\n",
            "Epoch 23/50\n",
            "8/8 [==============================] - 0s 11ms/step - loss: 0.1815 - accuracy: 0.9392 - val_loss: 0.2147 - val_accuracy: 0.9254\n",
            "Epoch 24/50\n",
            "8/8 [==============================] - 0s 12ms/step - loss: 0.1808 - accuracy: 0.9394 - val_loss: 0.2140 - val_accuracy: 0.9254\n",
            "Epoch 25/50\n",
            "8/8 [==============================] - 0s 13ms/step - loss: 0.1799 - accuracy: 0.9392 - val_loss: 0.2132 - val_accuracy: 0.9254\n",
            "Epoch 26/50\n",
            "8/8 [==============================] - 0s 11ms/step - loss: 0.1791 - accuracy: 0.9405 - val_loss: 0.2110 - val_accuracy: 0.9262\n",
            "Epoch 27/50\n",
            "8/8 [==============================] - 0s 11ms/step - loss: 0.1769 - accuracy: 0.9412 - val_loss: 0.2069 - val_accuracy: 0.9285\n",
            "Epoch 28/50\n",
            "8/8 [==============================] - 0s 12ms/step - loss: 0.1739 - accuracy: 0.9405 - val_loss: 0.2047 - val_accuracy: 0.9277\n",
            "Epoch 29/50\n",
            "8/8 [==============================] - 0s 9ms/step - loss: 0.1729 - accuracy: 0.9410 - val_loss: 0.2038 - val_accuracy: 0.9277\n",
            "Epoch 30/50\n",
            "8/8 [==============================] - 0s 10ms/step - loss: 0.1711 - accuracy: 0.9423 - val_loss: 0.2033 - val_accuracy: 0.9285\n",
            "Epoch 31/50\n",
            "8/8 [==============================] - 0s 11ms/step - loss: 0.1700 - accuracy: 0.9428 - val_loss: 0.2015 - val_accuracy: 0.9285\n",
            "Epoch 32/50\n",
            "8/8 [==============================] - 0s 11ms/step - loss: 0.1688 - accuracy: 0.9430 - val_loss: 0.2006 - val_accuracy: 0.9300\n",
            "Epoch 33/50\n",
            "8/8 [==============================] - 0s 11ms/step - loss: 0.1679 - accuracy: 0.9423 - val_loss: 0.1987 - val_accuracy: 0.9308\n",
            "Epoch 34/50\n",
            "8/8 [==============================] - 0s 12ms/step - loss: 0.1669 - accuracy: 0.9435 - val_loss: 0.1978 - val_accuracy: 0.9315\n",
            "Epoch 35/50\n",
            "8/8 [==============================] - 0s 11ms/step - loss: 0.1659 - accuracy: 0.9433 - val_loss: 0.1983 - val_accuracy: 0.9300\n",
            "Epoch 36/50\n",
            "8/8 [==============================] - 0s 12ms/step - loss: 0.1649 - accuracy: 0.9433 - val_loss: 0.1951 - val_accuracy: 0.9323\n",
            "Epoch 37/50\n",
            "8/8 [==============================] - 0s 12ms/step - loss: 0.1647 - accuracy: 0.9425 - val_loss: 0.1953 - val_accuracy: 0.9315\n",
            "Epoch 38/50\n",
            "8/8 [==============================] - 0s 13ms/step - loss: 0.1646 - accuracy: 0.9433 - val_loss: 0.1930 - val_accuracy: 0.9331\n",
            "Epoch 39/50\n",
            "8/8 [==============================] - 0s 11ms/step - loss: 0.1621 - accuracy: 0.9433 - val_loss: 0.1918 - val_accuracy: 0.9331\n",
            "Epoch 40/50\n",
            "8/8 [==============================] - 0s 10ms/step - loss: 0.1602 - accuracy: 0.9448 - val_loss: 0.1911 - val_accuracy: 0.9338\n",
            "Epoch 41/50\n",
            "8/8 [==============================] - 0s 12ms/step - loss: 0.1594 - accuracy: 0.9441 - val_loss: 0.1901 - val_accuracy: 0.9338\n",
            "Epoch 42/50\n",
            "8/8 [==============================] - 0s 11ms/step - loss: 0.1587 - accuracy: 0.9453 - val_loss: 0.1875 - val_accuracy: 0.9346\n",
            "Epoch 43/50\n",
            "8/8 [==============================] - 0s 12ms/step - loss: 0.1572 - accuracy: 0.9446 - val_loss: 0.1875 - val_accuracy: 0.9338\n",
            "Epoch 44/50\n",
            "8/8 [==============================] - 0s 11ms/step - loss: 0.1557 - accuracy: 0.9446 - val_loss: 0.1853 - val_accuracy: 0.9354\n",
            "Epoch 45/50\n",
            "8/8 [==============================] - 0s 12ms/step - loss: 0.1544 - accuracy: 0.9451 - val_loss: 0.1835 - val_accuracy: 0.9354\n",
            "Epoch 46/50\n",
            "8/8 [==============================] - 0s 12ms/step - loss: 0.1533 - accuracy: 0.9451 - val_loss: 0.1822 - val_accuracy: 0.9354\n",
            "Epoch 47/50\n",
            "8/8 [==============================] - 0s 11ms/step - loss: 0.1519 - accuracy: 0.9448 - val_loss: 0.1806 - val_accuracy: 0.9362\n",
            "Epoch 48/50\n",
            "8/8 [==============================] - 0s 11ms/step - loss: 0.1504 - accuracy: 0.9456 - val_loss: 0.1796 - val_accuracy: 0.9369\n",
            "Epoch 49/50\n",
            "8/8 [==============================] - 0s 14ms/step - loss: 0.1492 - accuracy: 0.9453 - val_loss: 0.1774 - val_accuracy: 0.9377\n",
            "Epoch 50/50\n",
            "8/8 [==============================] - 0s 17ms/step - loss: 0.1489 - accuracy: 0.9453 - val_loss: 0.1778 - val_accuracy: 0.9362\n"
          ]
        }
      ]
    },
    {
      "cell_type": "code",
      "source": [
        "score = model.evaluate(x_test, y_test)\n",
        "print('Test Accuracy :', score[1])"
      ],
      "metadata": {
        "colab": {
          "base_uri": "https://localhost:8080/"
        },
        "id": "Sz0zSoIJaY3k",
        "outputId": "3fa746de-12cb-4f6e-d3d9-f342988e6a3c"
      },
      "execution_count": 14,
      "outputs": [
        {
          "output_type": "stream",
          "name": "stdout",
          "text": [
            "41/41 [==============================] - 0s 4ms/step - loss: 0.1949 - accuracy: 0.9331\n",
            "Test Accuracy : 0.9330769181251526\n"
          ]
        }
      ]
    },
    {
      "cell_type": "code",
      "source": [
        ""
      ],
      "metadata": {
        "id": "jWPUyUgIahbZ"
      },
      "execution_count": null,
      "outputs": []
    }
  ]
}
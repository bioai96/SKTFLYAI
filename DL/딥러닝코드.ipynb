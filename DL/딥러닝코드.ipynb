{
  "nbformat": 4,
  "nbformat_minor": 0,
  "metadata": {
    "colab": {
      "name": "딥러닝코드",
      "provenance": [],
      "authorship_tag": "ABX9TyO6RqMO8HaFOmiYNuU+AlKj",
      "include_colab_link": true
    },
    "kernelspec": {
      "name": "python3",
      "display_name": "Python 3"
    },
    "language_info": {
      "name": "python"
    },
    "accelerator": "GPU",
    "gpuClass": "standard"
  },
  "cells": [
    {
      "cell_type": "markdown",
      "metadata": {
        "id": "view-in-github",
        "colab_type": "text"
      },
      "source": [
        "<a href=\"https://colab.research.google.com/github/bioai96/SKTFLYAI/blob/main/DL/%EB%94%A5%EB%9F%AC%EB%8B%9D%EC%BD%94%EB%93%9C.ipynb\" target=\"_parent\"><img src=\"https://colab.research.google.com/assets/colab-badge.svg\" alt=\"Open In Colab\"/></a>"
      ]
    },
    {
      "cell_type": "code",
      "execution_count": null,
      "metadata": {
        "id": "iWYAhjXTFLfT"
      },
      "outputs": [],
      "source": [
        ""
      ]
    },
    {
      "cell_type": "markdown",
      "source": [
        "##폐암 수술 환자의 생존율 예측 - 딥러닝"
      ],
      "metadata": {
        "id": "lSS5D7gsFkaj"
      }
    },
    {
      "cell_type": "markdown",
      "source": [
        "1. 환경준비"
      ],
      "metadata": {
        "id": "PPvESKE4Fpgw"
      }
    },
    {
      "cell_type": "code",
      "source": [
        "from tensorflow.keras.models import Sequential\n",
        "from tensorflow.keras.layers import Dense\n",
        "import numpy as np\n"
      ],
      "metadata": {
        "id": "xjST_wftFn-x"
      },
      "execution_count": null,
      "outputs": []
    },
    {
      "cell_type": "markdown",
      "source": [
        "2. 데이터 준비"
      ],
      "metadata": {
        "id": "uCMvrp_dH_vu"
      }
    },
    {
      "cell_type": "code",
      "source": [
        "!git clone https://github.com/taehojo/data.git"
      ],
      "metadata": {
        "colab": {
          "base_uri": "https://localhost:8080/"
        },
        "id": "SmLkCqKqF-64",
        "outputId": "124e5259-4e36-4476-b6e9-0acc4a8848d3"
      },
      "execution_count": null,
      "outputs": [
        {
          "output_type": "stream",
          "name": "stdout",
          "text": [
            "Cloning into 'data'...\n",
            "remote: Enumerating objects: 21, done.\u001b[K\n",
            "remote: Counting objects: 100% (21/21), done.\u001b[K\n",
            "remote: Compressing objects: 100% (18/18), done.\u001b[K\n",
            "remote: Total 21 (delta 3), reused 20 (delta 2), pack-reused 0\u001b[K\n",
            "Unpacking objects: 100% (21/21), done.\n"
          ]
        }
      ]
    },
    {
      "cell_type": "code",
      "source": [
        "Data_set = np.loadtxt(\"./data/ThoraricSurgery3.csv\", delimiter=\",\")\n",
        "Data_set"
      ],
      "metadata": {
        "colab": {
          "base_uri": "https://localhost:8080/"
        },
        "id": "-uCINXT4Ges2",
        "outputId": "2c71abea-d0a1-4296-f54a-ae3065ea5fb5"
      },
      "execution_count": null,
      "outputs": [
        {
          "output_type": "execute_result",
          "data": {
            "text/plain": [
              "array([[ 1.  ,  2.88,  2.16, ...,  0.  , 60.  ,  0.  ],\n",
              "       [ 2.  ,  3.4 ,  1.88, ...,  0.  , 51.  ,  0.  ],\n",
              "       [ 2.  ,  2.76,  2.08, ...,  0.  , 59.  ,  0.  ],\n",
              "       ...,\n",
              "       [ 2.  ,  3.04,  2.08, ...,  0.  , 52.  ,  0.  ],\n",
              "       [ 2.  ,  1.96,  1.68, ...,  0.  , 79.  ,  0.  ],\n",
              "       [ 2.  ,  4.72,  3.56, ...,  0.  , 51.  ,  0.  ]])"
            ]
          },
          "metadata": {},
          "execution_count": 10
        }
      ]
    },
    {
      "cell_type": "code",
      "source": [
        "X = Data_set[:,0:16]\n",
        "y = Data_set[:,16]"
      ],
      "metadata": {
        "id": "1hwwVsp9HDfD"
      },
      "execution_count": null,
      "outputs": []
    },
    {
      "cell_type": "code",
      "source": [
        ""
      ],
      "metadata": {
        "id": "ndhFYDp0H6XR"
      },
      "execution_count": null,
      "outputs": []
    },
    {
      "cell_type": "markdown",
      "source": [
        "3. 구조결정"
      ],
      "metadata": {
        "id": "ke8vMgntIN0c"
      }
    },
    {
      "cell_type": "code",
      "source": [
        "# 핵심 - 어떤 구조로 설정하느냐에 따라\n",
        "# Dense() - 층마다 출력값 - 입력값 연결\n",
        "\n",
        "model = Sequential()\n",
        "model.add(Dense(30, input_dim=16, activation='relu'))\n",
        "model.add(Dense(1, activation='sigmoid'))"
      ],
      "metadata": {
        "id": "eoH1IWq1IPXP"
      },
      "execution_count": null,
      "outputs": []
    },
    {
      "cell_type": "code",
      "source": [
        "model.compile(loss = 'binary_crossentropy', \n",
        "              optimizer = 'adam', \n",
        "              metrics = ['accuracy'])\n",
        "history = model.fit(X,y,epochs=5, batch_size=6)\n"
      ],
      "metadata": {
        "colab": {
          "base_uri": "https://localhost:8080/"
        },
        "id": "1zEmINYVIt7X",
        "outputId": "0656110f-145d-4ac8-c83e-6ed33da55bd8"
      },
      "execution_count": null,
      "outputs": [
        {
          "output_type": "stream",
          "name": "stdout",
          "text": [
            "Epoch 1/5\n",
            "79/79 [==============================] - 4s 3ms/step - loss: 0.4655 - accuracy: 0.8489\n",
            "Epoch 2/5\n",
            "79/79 [==============================] - 0s 3ms/step - loss: 0.4523 - accuracy: 0.8511\n",
            "Epoch 3/5\n",
            "79/79 [==============================] - 0s 3ms/step - loss: 0.4550 - accuracy: 0.8468\n",
            "Epoch 4/5\n",
            "79/79 [==============================] - 0s 3ms/step - loss: 0.4237 - accuracy: 0.8511\n",
            "Epoch 5/5\n",
            "79/79 [==============================] - 0s 2ms/step - loss: 0.4287 - accuracy: 0.8468\n"
          ]
        }
      ]
    },
    {
      "cell_type": "code",
      "source": [
        ""
      ],
      "metadata": {
        "id": "i5haJcmdItlh"
      },
      "execution_count": null,
      "outputs": []
    },
    {
      "cell_type": "code",
      "source": [
        ""
      ],
      "metadata": {
        "id": "GptlTKb5Ihhb"
      },
      "execution_count": null,
      "outputs": []
    }
  ]
}
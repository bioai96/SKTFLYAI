{
  "nbformat": 4,
  "nbformat_minor": 0,
  "metadata": {
    "colab": {
      "name": "다층퍼셉트론 - XOR",
      "provenance": [],
      "authorship_tag": "ABX9TyN7D3Smx6dRCLEj3DSCC4oJ",
      "include_colab_link": true
    },
    "kernelspec": {
      "name": "python3",
      "display_name": "Python 3"
    },
    "language_info": {
      "name": "python"
    },
    "accelerator": "GPU",
    "gpuClass": "standard"
  },
  "cells": [
    {
      "cell_type": "markdown",
      "metadata": {
        "id": "view-in-github",
        "colab_type": "text"
      },
      "source": [
        "<a href=\"https://colab.research.google.com/github/bioai96/SKTFLYAI/blob/main/DL/%EB%8B%A4%EC%B8%B5%ED%8D%BC%EC%85%89%ED%8A%B8%EB%A1%A0_XOR.ipynb\" target=\"_parent\"><img src=\"https://colab.research.google.com/assets/colab-badge.svg\" alt=\"Open In Colab\"/></a>"
      ]
    },
    {
      "cell_type": "code",
      "execution_count": 15,
      "metadata": {
        "id": "9udumXt2G_Qr"
      },
      "outputs": [],
      "source": [
        "import numpy as np"
      ]
    },
    {
      "cell_type": "code",
      "source": [
        "w11 = np.array([-2,-2])\n",
        "w12 = np.array([2,2])\n",
        "w2 = np.array([1,1])\n",
        "b1 = 3\n",
        "b2 = -1\n",
        "b3 = -1"
      ],
      "metadata": {
        "id": "pPHIAFKEHJZQ"
      },
      "execution_count": 16,
      "outputs": []
    },
    {
      "cell_type": "code",
      "source": [
        "# 퍼셉트론\n",
        "def MLP(x,w,b) :\n",
        "  y = np.sum(w*x) + b\n",
        "  if y <= 0 :\n",
        "    return 0\n",
        "  else :\n",
        "    return 1\n"
      ],
      "metadata": {
        "id": "KS3YXAdSHW2j"
      },
      "execution_count": 17,
      "outputs": []
    },
    {
      "cell_type": "code",
      "source": [
        "# NAND 게이트 \n",
        "def NAND(x1, x2) :\n",
        "  return MLP(np.array([x1,x2]),w11,b1)"
      ],
      "metadata": {
        "id": "pJ3f4Ue7HoFJ"
      },
      "execution_count": 33,
      "outputs": []
    },
    {
      "cell_type": "code",
      "source": [
        "# OR 게이트\n",
        "def OR(x1, x2):\n",
        "  return MLP(np.array([x1,x2]),w12, b2)"
      ],
      "metadata": {
        "id": "cGV6wRh9Hzez"
      },
      "execution_count": 34,
      "outputs": []
    },
    {
      "cell_type": "code",
      "source": [
        "# AND 게이트\n",
        "def AND(x1,x2) :\n",
        "  return MLP(np.array([x1,x2]),w2, b3)\n"
      ],
      "metadata": {
        "id": "jFmMK3wlH8P0"
      },
      "execution_count": 35,
      "outputs": []
    },
    {
      "cell_type": "code",
      "source": [
        "# XOR 게이트\n",
        "def XOR(x1,x2) :\n",
        "  return AND(NAND(x1,x2), OR(x1,x2))"
      ],
      "metadata": {
        "id": "hpUvn_pTIG40"
      },
      "execution_count": 36,
      "outputs": []
    },
    {
      "cell_type": "code",
      "source": [
        "for x in [(0,0),(1,0),(0,1),(1,1)]:\n",
        "    y = XOR(x[0], x[1])\n",
        "    print(\"입력값 : \" + str(x) + \", 출력값 : \" + str(y))"
      ],
      "metadata": {
        "colab": {
          "base_uri": "https://localhost:8080/"
        },
        "id": "y2z8ZcWCIUAL",
        "outputId": "edeaa40a-da55-4a25-b038-260cd26d2096"
      },
      "execution_count": 37,
      "outputs": [
        {
          "output_type": "stream",
          "name": "stdout",
          "text": [
            "입력값 : (0, 0), 출력값 : 0\n",
            "입력값 : (1, 0), 출력값 : 1\n",
            "입력값 : (0, 1), 출력값 : 1\n",
            "입력값 : (1, 1), 출력값 : 0\n"
          ]
        }
      ]
    },
    {
      "cell_type": "code",
      "source": [
        ""
      ],
      "metadata": {
        "id": "vf99qc8VJPY6"
      },
      "execution_count": null,
      "outputs": []
    }
  ]
}
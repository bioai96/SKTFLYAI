{
  "nbformat": 4,
  "nbformat_minor": 0,
  "metadata": {
    "colab": {
      "name": "딥러닝-다중선형회귀",
      "provenance": [],
      "authorship_tag": "ABX9TyNdzMfsk8mVFhe3B+abb1VR",
      "include_colab_link": true
    },
    "kernelspec": {
      "name": "python3",
      "display_name": "Python 3"
    },
    "language_info": {
      "name": "python"
    },
    "accelerator": "TPU",
    "gpuClass": "standard"
  },
  "cells": [
    {
      "cell_type": "markdown",
      "metadata": {
        "id": "view-in-github",
        "colab_type": "text"
      },
      "source": [
        "<a href=\"https://colab.research.google.com/github/bioai96/SKTFLYAI/blob/main/DL/%EB%94%A5%EB%9F%AC%EB%8B%9D_%EB%8B%A4%EC%A4%91%EC%84%A0%ED%98%95%ED%9A%8C%EA%B7%80.ipynb\" target=\"_parent\"><img src=\"https://colab.research.google.com/assets/colab-badge.svg\" alt=\"Open In Colab\"/></a>"
      ]
    },
    {
      "cell_type": "code",
      "execution_count": null,
      "metadata": {
        "id": "MnG_z88YDr05"
      },
      "outputs": [],
      "source": [
        "import numpy as np \n",
        "import matplotlib.pyplot as plt\n",
        "from tensorflow.keras.models import Sequential\n",
        "from tensorflow.keras.layers import Dense"
      ]
    },
    {
      "cell_type": "code",
      "source": [
        "# 공부시간과 과외\n",
        "x = np.array([[2,0],[4,0],[6,2],[8,3]])\n",
        "y = np.array([81,93,91,97])\n"
      ],
      "metadata": {
        "id": "m_RI7EhzDz7t"
      },
      "execution_count": null,
      "outputs": []
    },
    {
      "cell_type": "code",
      "source": [
        "model = Sequential()\n",
        "model.add(Dense(1, input_dim =2, activation ='linear'))\n",
        "model.compile(optimizer = 'sgd', loss = 'mse')\n",
        "model.fit(x,y, epochs=2000)"
      ],
      "metadata": {
        "id": "fEZ-AF2HENw2"
      },
      "execution_count": null,
      "outputs": []
    },
    {
      "cell_type": "code",
      "source": [
        "hour = 7\n",
        "private_class = 4\n",
        "prediction = model.predict([[hour, private_class]])\n",
        "\n",
        "print(\"%.f 시간을 공부하고 %.f 시간을 과외를 받을 경우, 예상점수는 %.02f점 입니다\" % \n",
        "      (hour, private_class, prediction))"
      ],
      "metadata": {
        "colab": {
          "base_uri": "https://localhost:8080/"
        },
        "id": "VIjFu7oOElL2",
        "outputId": "a779f2c9-5e7f-470c-e897-c7201ff56bb6"
      },
      "execution_count": null,
      "outputs": [
        {
          "output_type": "stream",
          "name": "stdout",
          "text": [
            "7 시간을 공부하고 4 시간을 과외를 받을 경우, 예상점수는 76.47점 입니다\n"
          ]
        }
      ]
    },
    {
      "cell_type": "code",
      "source": [
        ""
      ],
      "metadata": {
        "id": "yvW_RrARFjIx"
      },
      "execution_count": null,
      "outputs": []
    }
  ]
}
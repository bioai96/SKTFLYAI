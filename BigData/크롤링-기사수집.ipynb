{
 "cells": [
  {
   "cell_type": "code",
   "execution_count": 2,
   "id": "ae16361d",
   "metadata": {},
   "outputs": [
    {
     "name": "stdout",
     "output_type": "stream",
     "text": [
      "Collecting newspaper3k\n",
      "  Downloading newspaper3k-0.2.8-py3-none-any.whl (211 kB)\n",
      "Requirement already satisfied: nltk>=3.2.1 in c:\\users\\009\\anaconda3\\lib\\site-packages (from newspaper3k) (3.7)\n",
      "Requirement already satisfied: PyYAML>=3.11 in c:\\users\\009\\anaconda3\\lib\\site-packages (from newspaper3k) (6.0)\n",
      "Collecting feedparser>=5.2.1\n",
      "  Downloading feedparser-6.0.10-py3-none-any.whl (81 kB)\n",
      "Requirement already satisfied: python-dateutil>=2.5.3 in c:\\users\\009\\anaconda3\\lib\\site-packages (from newspaper3k) (2.8.2)\n",
      "Requirement already satisfied: tldextract>=2.0.1 in c:\\users\\009\\anaconda3\\lib\\site-packages (from newspaper3k) (3.2.0)\n",
      "Collecting jieba3k>=0.35.1\n",
      "  Downloading jieba3k-0.35.1.zip (7.4 MB)\n",
      "Collecting tinysegmenter==0.3\n",
      "  Downloading tinysegmenter-0.3.tar.gz (16 kB)\n",
      "Collecting feedfinder2>=0.0.4\n",
      "  Downloading feedfinder2-0.0.4.tar.gz (3.3 kB)\n",
      "Requirement already satisfied: lxml>=3.6.0 in c:\\users\\009\\anaconda3\\lib\\site-packages (from newspaper3k) (4.8.0)\n",
      "Requirement already satisfied: Pillow>=3.3.0 in c:\\users\\009\\anaconda3\\lib\\site-packages (from newspaper3k) (9.0.1)\n",
      "Requirement already satisfied: requests>=2.10.0 in c:\\users\\009\\anaconda3\\lib\\site-packages (from newspaper3k) (2.27.1)\n",
      "Requirement already satisfied: cssselect>=0.9.2 in c:\\users\\009\\anaconda3\\lib\\site-packages (from newspaper3k) (1.1.0)\n",
      "Requirement already satisfied: beautifulsoup4>=4.4.1 in c:\\users\\009\\anaconda3\\lib\\site-packages (from newspaper3k) (4.11.1)\n",
      "Requirement already satisfied: soupsieve>1.2 in c:\\users\\009\\anaconda3\\lib\\site-packages (from beautifulsoup4>=4.4.1->newspaper3k) (2.3.1)\n",
      "Requirement already satisfied: six in c:\\users\\009\\anaconda3\\lib\\site-packages (from feedfinder2>=0.0.4->newspaper3k) (1.16.0)\n",
      "Collecting sgmllib3k\n",
      "  Downloading sgmllib3k-1.0.0.tar.gz (5.8 kB)\n",
      "Requirement already satisfied: joblib in c:\\users\\009\\anaconda3\\lib\\site-packages (from nltk>=3.2.1->newspaper3k) (1.1.0)\n",
      "Requirement already satisfied: click in c:\\users\\009\\anaconda3\\lib\\site-packages (from nltk>=3.2.1->newspaper3k) (8.0.4)\n",
      "Requirement already satisfied: regex>=2021.8.3 in c:\\users\\009\\anaconda3\\lib\\site-packages (from nltk>=3.2.1->newspaper3k) (2022.3.15)\n",
      "Requirement already satisfied: tqdm in c:\\users\\009\\anaconda3\\lib\\site-packages (from nltk>=3.2.1->newspaper3k) (4.64.0)\n",
      "Requirement already satisfied: idna<4,>=2.5 in c:\\users\\009\\anaconda3\\lib\\site-packages (from requests>=2.10.0->newspaper3k) (3.3)\n",
      "Requirement already satisfied: certifi>=2017.4.17 in c:\\users\\009\\anaconda3\\lib\\site-packages (from requests>=2.10.0->newspaper3k) (2021.10.8)\n",
      "Requirement already satisfied: charset-normalizer~=2.0.0 in c:\\users\\009\\anaconda3\\lib\\site-packages (from requests>=2.10.0->newspaper3k) (2.0.4)\n",
      "Requirement already satisfied: urllib3<1.27,>=1.21.1 in c:\\users\\009\\anaconda3\\lib\\site-packages (from requests>=2.10.0->newspaper3k) (1.26.9)\n",
      "Requirement already satisfied: requests-file>=1.4 in c:\\users\\009\\anaconda3\\lib\\site-packages (from tldextract>=2.0.1->newspaper3k) (1.5.1)\n",
      "Requirement already satisfied: filelock>=3.0.8 in c:\\users\\009\\anaconda3\\lib\\site-packages (from tldextract>=2.0.1->newspaper3k) (3.6.0)\n",
      "Requirement already satisfied: colorama in c:\\users\\009\\anaconda3\\lib\\site-packages (from click->nltk>=3.2.1->newspaper3k) (0.4.4)\n",
      "Building wheels for collected packages: tinysegmenter, feedfinder2, jieba3k, sgmllib3k\n",
      "  Building wheel for tinysegmenter (setup.py): started\n",
      "  Building wheel for tinysegmenter (setup.py): finished with status 'done'\n",
      "  Created wheel for tinysegmenter: filename=tinysegmenter-0.3-py3-none-any.whl size=13553 sha256=49251d9cefd2b2487f28847e969fc14dd7cab49e07da77dba4ccae2b3355fea9\n",
      "  Stored in directory: c:\\users\\009\\appdata\\local\\pip\\cache\\wheels\\94\\ad\\df\\a2a01300cea47d5695f242f7e925a805970106fd9e4b151468\n",
      "  Building wheel for feedfinder2 (setup.py): started\n",
      "  Building wheel for feedfinder2 (setup.py): finished with status 'done'\n",
      "  Created wheel for feedfinder2: filename=feedfinder2-0.0.4-py3-none-any.whl size=3357 sha256=74f5b2e0fd2ea229b16183c9635bcdbad691d23216f3f411e88acd11f3a2d740\n",
      "  Stored in directory: c:\\users\\009\\appdata\\local\\pip\\cache\\wheels\\43\\4a\\c2\\61a371b2524ac90805391c660d8dc4505705297f25e2b85a5d\n",
      "  Building wheel for jieba3k (setup.py): started\n",
      "  Building wheel for jieba3k (setup.py): finished with status 'done'\n",
      "  Created wheel for jieba3k: filename=jieba3k-0.35.1-py3-none-any.whl size=7398404 sha256=ef2d4875ef23bd39924c3868c0f2f8917592f153d23c44e857bf75303dc72f00\n",
      "  Stored in directory: c:\\users\\009\\appdata\\local\\pip\\cache\\wheels\\c2\\22\\59\\8214a8d6357e9f540ce1f37f9a4362b6156b4ca81b37f1945f\n",
      "  Building wheel for sgmllib3k (setup.py): started\n",
      "  Building wheel for sgmllib3k (setup.py): finished with status 'done'\n",
      "  Created wheel for sgmllib3k: filename=sgmllib3k-1.0.0-py3-none-any.whl size=6066 sha256=75a3e100f802596c59aea5e433b1381c4f7965ed4d39f32aa65788907d95ad5a\n",
      "  Stored in directory: c:\\users\\009\\appdata\\local\\pip\\cache\\wheels\\65\\7a\\a7\\78c287f64e401255dff4c13fdbc672fed5efbfd21c530114e1\n",
      "Successfully built tinysegmenter feedfinder2 jieba3k sgmllib3k\n",
      "Installing collected packages: sgmllib3k, tinysegmenter, jieba3k, feedparser, feedfinder2, newspaper3k\n",
      "Successfully installed feedfinder2-0.0.4 feedparser-6.0.10 jieba3k-0.35.1 newspaper3k-0.2.8 sgmllib3k-1.0.0 tinysegmenter-0.3\n"
     ]
    }
   ],
   "source": [
    "!pip install newspaper3k"
   ]
  },
  {
   "cell_type": "code",
   "execution_count": 3,
   "id": "90cfd0db",
   "metadata": {},
   "outputs": [
    {
     "name": "stdout",
     "output_type": "stream",
     "text": [
      "[파이낸셜뉴스] 네이버시리즈 독점 웹소설 '화산귀환'의 누적 매출이 300억 원을 돌파했다. 웹소설만으로 올린 기록이라서 더욱 의미가 깊다.무협 웹소설 '화산귀환'은 무림의 최고수였던 '청명'이 어린아이로 환생해 망해버린 자신의 문파 '화산파'를 부활시키기 위해 고군분투하는 내용을 담았다. 이 작품은 네이버 시리즈에서 2019년부터 독점 연재된 작품으로 현재 1280여 화 이상이 넘게 연재되고 있으며 총 누적 다운로드 수 3억 7000만 이상을 돌파한 인기작이다.이어 네이버 시리즈가 지난 2021년 선정한 ‘시리즈 2021년 어워드: 시리즈를 빛낸 작품들’에서 웹소설 부문 전체 1위를 차지하면서 네이버 시리즈의 핵심 웹소설 IP로 자리매김했다. 지난 2021년 3월부터 이 작품을 원작으로 한 동명의 웹툰도 연재를 시작했다.네이버 시리즈는 웹소설 작가들에게 유료화 모델을 통해 수익을 낼 수 있는 기회를 제공하고 있다. 특히 네이버 시리즈와 네이버웹툰의 구매 내역이 연동돼 이용자들이 애플리케이션을 편히 사용할 수 있도록 시스템을 갖췄다. 또 플랫폼 간 독자가 편입되는 선순환 구조를 이뤄내면서 웹소설의 매출에도 긍정적인 영향을 주고 있다.화산귀환의 비가 작가는 “연재를 시작할 때만 해도 예상조차 못 했던 곳까지 왔는데 많은 분들이 도와주셨고 긴 연재기간 동안 응원해주신 독자들 덕분이라고 생각한다. 네이버 시리즈의 아낌없는 지원 덕분에 더 많은 독자들과 만날 수 있었다고 생각하고 앞으로도 좋은 작품으로 보답하겠다”고 말했다.한편, 작가 '비가'는 앞서 파천도, 역천도, 태존비록 등 무협 장르에서 다양한 무협 장르 작품들을 선보여온 유명 작가로 작가 특유의 구성력과 무협 장르에서 쌓아온 필력을 살려 화산귀환을 연재하고 있다.\n"
     ]
    }
   ],
   "source": [
    "import newspaper\n",
    "\n",
    "link = \"https://n.news.naver.com/mnews/article/014/0004867095?sid=105\"\n",
    "article = newspaper.Article(link, language='ko')\n",
    "article.download()\n",
    "article.parse()\n",
    "print(article.text)"
   ]
  },
  {
   "cell_type": "code",
   "execution_count": null,
   "id": "634fff6c",
   "metadata": {},
   "outputs": [],
   "source": []
  }
 ],
 "metadata": {
  "kernelspec": {
   "display_name": "Python 3 (ipykernel)",
   "language": "python",
   "name": "python3"
  },
  "language_info": {
   "codemirror_mode": {
    "name": "ipython",
    "version": 3
   },
   "file_extension": ".py",
   "mimetype": "text/x-python",
   "name": "python",
   "nbconvert_exporter": "python",
   "pygments_lexer": "ipython3",
   "version": "3.9.12"
  }
 },
 "nbformat": 4,
 "nbformat_minor": 5
}

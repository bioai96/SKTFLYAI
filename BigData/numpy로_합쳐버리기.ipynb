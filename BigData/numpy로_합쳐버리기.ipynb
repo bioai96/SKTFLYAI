{
 "cells": [
  {
   "cell_type": "code",
   "execution_count": null,
   "metadata": {
    "id": "50AsMrPA8Alo"
   },
   "outputs": [],
   "source": []
  },
  {
   "cell_type": "code",
   "execution_count": null,
   "metadata": {
    "colab": {
     "base_uri": "https://localhost:8080/"
    },
    "id": "-1sNNP2Pcn7k",
    "outputId": "29118db3-ccfe-45a1-ccfc-cb08460672a2"
   },
   "outputs": [
    {
     "name": "stdout",
     "output_type": "stream",
     "text": [
      "0 completed\n",
      "250 completed\n",
      "500 completed\n",
      "750 completed\n",
      "1000 completed\n",
      "1250 completed\n",
      "1500 completed\n",
      "1750 completed\n",
      "2000 completed\n",
      "2250 completed\n",
      "2500 completed\n",
      "2750 completed\n",
      "3000 completed\n",
      "3250 completed\n",
      "3500 completed\n",
      "3750 completed\n",
      "4000 completed\n",
      "4250 completed\n",
      "4500 completed\n",
      "4750 completed\n",
      "5000 completed\n",
      "5250 completed\n",
      "5500 completed\n",
      "5750 completed\n",
      "6000 completed\n",
      "6250 completed\n",
      "6500 completed\n",
      "6750 completed\n",
      "7000 completed\n",
      "7250 completed\n",
      "7500 completed\n",
      "7750 completed\n",
      "8000 completed\n",
      "8250 completed\n",
      "8500 completed\n",
      "8750 completed\n",
      "9000 completed\n",
      "9250 completed\n",
      "9500 completed\n",
      "9750 completed\n",
      "10000 completed\n",
      "10250 completed\n",
      "10500 completed\n",
      "10750 completed\n",
      "11000 completed\n",
      "11250 completed\n",
      "11500 completed\n",
      "11750 completed\n",
      "12000 completed\n",
      "12250 completed\n",
      "12500 completed\n",
      "12750 completed\n",
      "13000 completed\n",
      "13250 completed\n",
      "13500 completed\n",
      "13750 completed\n",
      "14000 completed\n",
      "14250 completed\n",
      "14500 completed\n",
      "14750 completed\n",
      "15000 completed\n",
      "15250 completed\n",
      "15500 completed\n",
      "15750 completed\n",
      "16000 completed\n",
      "16250 completed\n",
      "16500 completed\n",
      "16750 completed\n",
      "17000 completed\n",
      "17250 completed\n",
      "17500 completed\n",
      "17750 completed\n",
      "18000 completed\n",
      "18250 completed\n",
      "18500 completed\n",
      "18750 completed\n",
      "19000 completed\n",
      "19250 completed\n",
      "19500 completed\n",
      "19750 completed\n",
      "20000 completed\n",
      "20250 completed\n",
      "20500 completed\n",
      "20750 completed\n",
      "21000 completed\n",
      "21250 completed\n",
      "21500 completed\n",
      "21750 completed\n",
      "22000 completed\n",
      "22250 completed\n",
      "22500 completed\n",
      "22750 completed\n",
      "23000 completed\n",
      "23250 completed\n",
      "23500 completed\n",
      "23750 completed\n",
      "24000 completed\n",
      "24250 completed\n",
      "24500 completed\n",
      "24750 completed\n",
      "25000 completed\n",
      "25250 completed\n",
      "25500 completed\n",
      "25750 completed\n",
      "26000 completed\n",
      "26250 completed\n",
      "26500 completed\n",
      "26750 completed\n",
      "27000 completed\n",
      "27250 completed\n",
      "27500 completed\n",
      "27750 completed\n",
      "28000 completed\n",
      "28250 completed\n",
      "28500 completed\n",
      "28750 completed\n",
      "29000 completed\n",
      "29250 completed\n",
      "29500 completed\n",
      "29750 completed\n",
      "30000 completed\n",
      "30250 completed\n",
      "30500 completed\n",
      "30750 completed\n",
      "31000 completed\n",
      "31250 completed\n",
      "31500 completed\n",
      "31750 completed\n",
      "32000 completed\n",
      "32250 completed\n",
      "32500 completed\n",
      "32750 completed\n",
      "33000 completed\n",
      "33250 completed\n",
      "33500 completed\n",
      "33750 completed\n",
      "34000 completed\n",
      "34250 completed\n",
      "34500 completed\n",
      "34750 completed\n",
      "35000 completed\n",
      "35250 completed\n",
      "35500 completed\n",
      "35750 completed\n",
      "36000 completed\n",
      "36250 completed\n",
      "36500 completed\n",
      "36750 completed\n",
      "37000 completed\n",
      "37250 completed\n",
      "37500 completed\n",
      "37750 completed\n",
      "38000 completed\n",
      "38250 completed\n",
      "38500 completed\n",
      "38750 completed\n",
      "39000 completed\n",
      "39250 completed\n",
      "39500 completed\n",
      "39750 completed\n",
      "40000 completed\n",
      "40250 completed\n",
      "40500 completed\n",
      "40750 completed\n",
      "41000 completed\n",
      "41250 completed\n",
      "41500 completed\n",
      "41750 completed\n",
      "42000 completed\n",
      "42250 completed\n",
      "42500 completed\n",
      "42750 completed\n",
      "43000 completed\n",
      "43250 completed\n",
      "43500 completed\n",
      "43750 completed\n",
      "44000 completed\n",
      "44250 completed\n",
      "44500 completed\n",
      "44750 completed\n",
      "45000 completed\n",
      "45250 completed\n",
      "45500 completed\n",
      "45750 completed\n",
      "46000 completed\n",
      "46250 completed\n",
      "46500 completed\n",
      "46750 completed\n",
      "47000 completed\n",
      "47250 completed\n",
      "47500 completed\n",
      "47750 completed\n",
      "48000 completed\n",
      "48250 completed\n",
      "48500 completed\n",
      "48750 completed\n",
      "49000 completed\n",
      "49250 completed\n",
      "49500 completed\n",
      "49750 completed\n",
      "50000 completed\n",
      "50250 completed\n",
      "50500 completed\n",
      "50750 completed\n",
      "51000 completed\n",
      "51250 completed\n",
      "51500 completed\n",
      "51750 completed\n",
      "52000 completed\n",
      "52250 completed\n",
      "52500 completed\n",
      "52750 completed\n",
      "53000 completed\n",
      "53250 completed\n",
      "53500 completed\n",
      "53750 completed\n",
      "54000 completed\n",
      "54250 completed\n",
      "54500 completed\n",
      "54750 completed\n",
      "55000 completed\n",
      "55250 completed\n",
      "55500 completed\n",
      "55750 completed\n",
      "56000 completed\n",
      "56250 completed\n",
      "56500 completed\n",
      "56750 completed\n",
      "57000 completed\n",
      "57250 completed\n",
      "57500 completed\n",
      "57750 completed\n",
      "58000 completed\n",
      "58250 completed\n",
      "58500 completed\n",
      "58750 completed\n",
      "59000 completed\n",
      "59250 completed\n",
      "59500 completed\n",
      "59750 completed\n",
      "0 completed\n",
      "250 completed\n",
      "500 completed\n",
      "750 completed\n",
      "1000 completed\n",
      "1250 completed\n",
      "1500 completed\n",
      "1750 completed\n",
      "2000 completed\n",
      "2250 completed\n",
      "2500 completed\n",
      "2750 completed\n",
      "3000 completed\n",
      "3250 completed\n",
      "3500 completed\n",
      "3750 completed\n",
      "4000 completed\n",
      "4250 completed\n",
      "4500 completed\n",
      "4750 completed\n",
      "5000 completed\n",
      "5250 completed\n",
      "5500 completed\n",
      "5750 completed\n",
      "6000 completed\n",
      "6250 completed\n",
      "6500 completed\n",
      "6750 completed\n",
      "7000 completed\n",
      "7250 completed\n",
      "7500 completed\n",
      "7750 completed\n",
      "8000 completed\n",
      "8250 completed\n",
      "8500 completed\n",
      "8750 completed\n",
      "9000 completed\n",
      "9250 completed\n",
      "9500 completed\n",
      "9750 completed\n"
     ]
    }
   ],
   "source": [
    "from keras.datasets import mnist\n",
    "import cv2\n",
    "import numpy as np\n",
    "\n",
    "\n",
    "(x_train, y_train), (x_test, y_test) = mnist.load_data()\n",
    "\n",
    "x_train_reshape = []\n",
    "for i in range(len(x_train)):\n",
    "    if i % 250 == 0:\n",
    "      print(\"{} completed\".format(i))\n",
    "    x_train_reshape.append(cv2.resize(x_train[i], dsize = (20, 20), interpolation=cv2.INTER_AREA))\n",
    "\n",
    "x_test_reshape = []\n",
    "for j in range(len(x_test)):\n",
    "    if j % 250 == 0:\n",
    "        print(\"{} completed\".format(j))\n",
    "    x_test_reshape.append(cv2.resize(x_test[j], dsize = (20, 20), interpolation=cv2.INTER_AREA))"
   ]
  },
  {
   "cell_type": "code",
   "execution_count": null,
   "metadata": {
    "id": "8sooO0TddFAC"
   },
   "outputs": [],
   "source": [
    "x_train_reshape = np.array(x_train_reshape)\n",
    "x_train = x_train_reshape[:,:].reshape(-1,400).astype(np.float32)\n",
    "y_train = np.array(y_train)[:, np.newaxis]\n",
    "np.savez(\"/content/drive/MyDrive/dvc/train_data.npz\", train = x_train, train_labels = y_train)"
   ]
  },
  {
   "cell_type": "code",
   "execution_count": null,
   "metadata": {
    "id": "p97p0dzihrAX"
   },
   "outputs": [],
   "source": [
    "x_test_reshape = np.array(x_test_reshape)\n",
    "x_test = x_test_reshape[:,:].reshape(-1,400).astype(np.float32)\n",
    "y_test = np.array(y_test)[:, np.newaxis]\n",
    "np.savez(\"/content/drive/MyDrive/dvc/test_data.npz\", train = x_test, train_labels = y_test)"
   ]
  },
  {
   "cell_type": "code",
   "execution_count": null,
   "metadata": {
    "colab": {
     "base_uri": "https://localhost:8080/"
    },
    "id": "ysVJDwZFiGz-",
    "outputId": "a98c670b-aa2e-4700-d1a3-4b85c68bb78b"
   },
   "outputs": [
    {
     "data": {
      "text/plain": [
       "(60000, 20, 20)"
      ]
     },
     "execution_count": 14,
     "metadata": {},
     "output_type": "execute_result"
    }
   ],
   "source": [
    "np.array(x_train_reshape).shape"
   ]
  },
  {
   "cell_type": "code",
   "execution_count": null,
   "metadata": {
    "id": "UavgpoQadE9f"
   },
   "outputs": [],
   "source": [
    "train = x[:,:].reshape(-1,400).astype(np.float32)"
   ]
  },
  {
   "cell_type": "code",
   "execution_count": null,
   "metadata": {
    "colab": {
     "base_uri": "https://localhost:8080/"
    },
    "id": "4KMY-0UijTTS",
    "outputId": "3a51c552-bebc-41d8-bb7c-92ce458fb9cc"
   },
   "outputs": [
    {
     "data": {
      "text/plain": [
       "(60000, 400)"
      ]
     },
     "execution_count": 38,
     "metadata": {},
     "output_type": "execute_result"
    }
   ],
   "source": [
    "x_train.shape"
   ]
  },
  {
   "cell_type": "code",
   "execution_count": null,
   "metadata": {
    "id": "qeaMrm9BoV8a"
   },
   "outputs": [],
   "source": [
    "org = np.load('/content/trained.npz')"
   ]
  },
  {
   "cell_type": "code",
   "execution_count": null,
   "metadata": {
    "id": "97weOCjNoV6F"
   },
   "outputs": [],
   "source": [
    "np.concatenate(x_train, org['train'])"
   ]
  },
  {
   "cell_type": "code",
   "execution_count": null,
   "metadata": {
    "colab": {
     "base_uri": "https://localhost:8080/"
    },
    "id": "qg_kIm-zo3pc",
    "outputId": "49bd0ebb-578a-4d9b-96f4-647e47f0039b"
   },
   "outputs": [
    {
     "data": {
      "text/plain": [
       "((260, 400), (60000, 400))"
      ]
     },
     "execution_count": 42,
     "metadata": {},
     "output_type": "execute_result"
    }
   ],
   "source": [
    "org['train'].shape, x_train.shape"
   ]
  },
  {
   "cell_type": "code",
   "execution_count": null,
   "metadata": {
    "colab": {
     "base_uri": "https://localhost:8080/"
    },
    "id": "htL9T77yo-vn",
    "outputId": "2e529e9d-04b1-4bf5-cc38-b3352155fd21"
   },
   "outputs": [
    {
     "name": "stdout",
     "output_type": "stream",
     "text": [
      "(60260, 400)\n"
     ]
    }
   ],
   "source": [
    "print(np.block([[org['train']], [x_train]]).shape)\n",
    "\n",
    "np.savez(\"/content/drive/MyDrive/dvc/train_data_total.npz\", train = np.block([[org['train']], [x_train]]), \n",
    "         train_labels = np.block([[org['train_labels']], [y_train.reshape(-1,1)]]))"
   ]
  },
  {
   "cell_type": "code",
   "execution_count": null,
   "metadata": {
    "colab": {
     "base_uri": "https://localhost:8080/"
    },
    "id": "qfpt3eqppfwK",
    "outputId": "adc954d4-cb59-4c1c-dc04-57b0cb38bbb2"
   },
   "outputs": [
    {
     "name": "stdout",
     "output_type": "stream",
     "text": [
      "(60260, 400)\n"
     ]
    }
   ],
   "source": [
    "print(np.block([[org['train']], [x_train]]).shape)"
   ]
  },
  {
   "cell_type": "code",
   "execution_count": null,
   "metadata": {
    "colab": {
     "base_uri": "https://localhost:8080/"
    },
    "id": "FKOkO0XrqBhJ",
    "outputId": "3f01fbd4-4699-4935-a4a9-565fd68da2ac"
   },
   "outputs": [
    {
     "data": {
      "text/plain": [
       "((260, 1), (60000, 1, 1))"
      ]
     },
     "execution_count": 47,
     "metadata": {},
     "output_type": "execute_result"
    }
   ],
   "source": [
    "org['train_labels'].shape, y_train.shape"
   ]
  },
  {
   "cell_type": "code",
   "execution_count": null,
   "metadata": {
    "colab": {
     "base_uri": "https://localhost:8080/"
    },
    "id": "iNnAcQ9fp_0N",
    "outputId": "37325494-0ec9-407a-85b6-f86cacd7cf8e"
   },
   "outputs": [
    {
     "data": {
      "text/plain": [
       "(60260, 1)"
      ]
     },
     "execution_count": 51,
     "metadata": {},
     "output_type": "execute_result"
    }
   ],
   "source": [
    "np.block([[org['train_labels']], [y_train.reshape(-1,1)]]).shape"
   ]
  },
  {
   "cell_type": "code",
   "execution_count": null,
   "metadata": {
    "colab": {
     "base_uri": "https://localhost:8080/"
    },
    "id": "UMcOhFZ5qNEq",
    "outputId": "5013f6cb-4677-4e7e-c06f-6305da144cdf"
   },
   "outputs": [
    {
     "name": "stdout",
     "output_type": "stream",
     "text": [
      "[[[5]]\n",
      "\n",
      " [[0]]\n",
      "\n",
      " [[4]]\n",
      "\n",
      " ...\n",
      "\n",
      " [[5]]\n",
      "\n",
      " [[6]]\n",
      "\n",
      " [[8]]]\n",
      "[[5]\n",
      " [0]\n",
      " [4]\n",
      " ...\n",
      " [5]\n",
      " [6]\n",
      " [8]]\n"
     ]
    }
   ],
   "source": [
    "# y_train.reshape(-1,1).shape\n",
    "print(y_train)\n",
    "print(y_train.reshape(-1,1))"
   ]
  }
 ],
 "metadata": {
  "colab": {
   "collapsed_sections": [],
   "name": "numpy로 합쳐버리기.ipynb",
   "provenance": []
  },
  "kernelspec": {
   "display_name": "Python 3 (ipykernel)",
   "language": "python",
   "name": "python3"
  },
  "language_info": {
   "codemirror_mode": {
    "name": "ipython",
    "version": 3
   },
   "file_extension": ".py",
   "mimetype": "text/x-python",
   "name": "python",
   "nbconvert_exporter": "python",
   "pygments_lexer": "ipython3",
   "version": "3.9.12"
  }
 },
 "nbformat": 4,
 "nbformat_minor": 1
}

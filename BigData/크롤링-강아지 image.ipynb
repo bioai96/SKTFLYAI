{
 "cells": [
  {
   "cell_type": "code",
   "execution_count": 22,
   "id": "f3109a7c",
   "metadata": {},
   "outputs": [
    {
     "name": "stdout",
     "output_type": "stream",
     "text": [
      "https://encrypted-tbn0.gstatic.com/images?q=tbn:ANd9GcQegk3SVvBGmKXkGScW_yOb2e35ROisQdzPU8Y77WCdiRIVSlWe068iYzwyjBc&s\n",
      "./dog/001.jpg\n",
      "https://encrypted-tbn0.gstatic.com/images?q=tbn:ANd9GcQqpMA4d8fwFUkkplgRFk8OCnaGdA3tLVNbUSnfXckjyMlGara9S5C0UaNU8VU&s\n",
      "./dog/002.jpg\n",
      "https://encrypted-tbn0.gstatic.com/images?q=tbn:ANd9GcQ-UryGSdmTIV7F2S8kJIJTMpaHNLqDc0pmp1H4hKQlO4w_LJTUJY7zp6UggA&s\n",
      "./dog/003.jpg\n",
      "https://encrypted-tbn0.gstatic.com/images?q=tbn:ANd9GcQLhps8UTxj93Oi8EdxdsqGYQkGAz4LOgD48vQr-h5Zyc0OEUEx_8MekTRX1tU&s\n",
      "./dog/004.jpg\n",
      "https://encrypted-tbn0.gstatic.com/images?q=tbn:ANd9GcSYmcOq_xQac1VyicIaDP98nCmwoVX_PapGkh8MPk2g4GdjIm4T14gDFk5UR5A&s\n",
      "./dog/005.jpg\n",
      "https://encrypted-tbn0.gstatic.com/images?q=tbn:ANd9GcQeOGQaqEqqN842WAcjRZIIjESCGUgQ2HNodoFk07LFllydqS1bc0KcyUcZ9Aw&s\n",
      "./dog/006.jpg\n",
      "https://encrypted-tbn0.gstatic.com/images?q=tbn:ANd9GcSXZA8hzDjD9f2wvo6qNm9rJjee5yHBJhzCsbWqsHbZg_1kL-nXRj2CEA-FIag&s\n",
      "./dog/007.jpg\n",
      "https://encrypted-tbn0.gstatic.com/images?q=tbn:ANd9GcQ9uCnJDgvaboaZB_vucMxWz6KesmHR_5ZLAXNdQmCuT4W5Io5JnYUZgdU-Ug&s\n",
      "./dog/008.jpg\n",
      "https://encrypted-tbn0.gstatic.com/images?q=tbn:ANd9GcRmSNoI-drqF5XyPYQhwexItshawOg8tfqgjgHuJkYGK_2zQQVJeZRB_N_UkAA&s\n",
      "./dog/009.jpg\n",
      "https://encrypted-tbn0.gstatic.com/images?q=tbn:ANd9GcT4MeXvO8gaFbHyXUt9lE2cll9_SLtFkQra8CGAcqo_PVsZ4rLU0_NU-IXAiYI&s\n",
      "./dog/010.jpg\n",
      "https://encrypted-tbn0.gstatic.com/images?q=tbn:ANd9GcQ90PcI1aUCtoIU58o4E7Co5ftmlZjoTgI1aHXEwdeWO45P6aL3yfHDHSDPEw&s\n",
      "./dog/011.jpg\n",
      "https://encrypted-tbn0.gstatic.com/images?q=tbn:ANd9GcSh_iSuB9n4IyOUvWaqxq6ifixRhWy_Efjwu2oeE6gsZXlR-ghoiegY6koJGgw&s\n",
      "./dog/012.jpg\n",
      "https://encrypted-tbn0.gstatic.com/images?q=tbn:ANd9GcTPhQ0agK4540DVKuO5VF2UNcSvIzE_QGVwSHCzb7TrOvGNO8RQ7tDC2BldAw&s\n",
      "./dog/013.jpg\n",
      "https://encrypted-tbn0.gstatic.com/images?q=tbn:ANd9GcSMiI41pkH80BmuRc3Elk4m-CNNkTny3o12avjaIeNr9eoQS52Qy8fMo9jB23s&s\n",
      "./dog/014.jpg\n",
      "https://encrypted-tbn0.gstatic.com/images?q=tbn:ANd9GcSOmsB-UUhY6B2Erp9FvkblP7vPFfgdz6aoYzhuq-oDp3r-5pVUz9PBjzmnLac&s\n",
      "./dog/015.jpg\n",
      "https://encrypted-tbn0.gstatic.com/images?q=tbn:ANd9GcTiLUpwL6h6bEOrrlCQAnHRDCiQGSNcThEN22g6q0C4zfOX86QM67vuqx6b9A&s\n",
      "./dog/016.jpg\n",
      "https://encrypted-tbn0.gstatic.com/images?q=tbn:ANd9GcQ2YT2biHmDUEUfSmjP8-lzzGkfYWnLsd1BFvRvM7wNpOxh4ak6BZOayfJlng&s\n",
      "./dog/017.jpg\n",
      "https://encrypted-tbn0.gstatic.com/images?q=tbn:ANd9GcRBxF1XMCqb78FvrwS04LKuQ77pdP_AGUkn8nJEFoA_DSzaxUJ-oN_Qg-GEhQY&s\n",
      "./dog/018.jpg\n",
      "https://encrypted-tbn0.gstatic.com/images?q=tbn:ANd9GcR5JBho9syS-bSAfJGQP8WkXanzhwXpb8QR9NsPvqa0SlwoHlyj0jN3_MjXSEo&s\n",
      "./dog/019.jpg\n",
      "https://encrypted-tbn0.gstatic.com/images?q=tbn:ANd9GcQVcFVURQg1ZJLGLqIgHXcTviJdbFlbif2l-xaJlLlVU2Sf4GJGFFcCwYFwM-8&s\n",
      "./dog/020.jpg\n"
     ]
    }
   ],
   "source": [
    "import os\n",
    "import requests\n",
    "from bs4 import BeautifulSoup as bs\n",
    "\n",
    "url ='https://www.google.com/search?q=%EA%B0%95%EC%95%84%EC%A7%80&gbv=2&sxsrf=ALiCzsZB55PtXCZ0zrEPbkIgsGcbX00vpQ:1657784098909&source=lnms&tbm=isch&sa=X&ved=2ahUKEwirktGC7_f4AhUrqFYBHVpqDFYQ_AUoAXoECAMQAw&biw=1536&bih=714&dpr=1.25'\n",
    "html = requests.get(url).text\n",
    "soup = bs(html, 'html.parser')\n",
    "\n",
    "\n",
    "result = soup.select('.yWs4tf')\n",
    "\n",
    "if not (os.path.isdir('./dog')):\n",
    "    os.makedirs(os.path.join('./dog'))\n",
    "\n",
    "i=1 \n",
    "for tag in result :\n",
    "    print(tag['src'])\n",
    "    img_url = tag['src']\n",
    "    headers = {'Referer':img_url}\n",
    "    img_data = requests.get(tag['src'], headers = headers)\n",
    "    save_img = \"./dog/\" + str(i).zfill(3) + \".jpg\"\n",
    "    print(save_img)\n",
    "    with open(save_img, 'wb') as f :\n",
    "        f.write(img_data.content)\n",
    "    i += 1\n"
   ]
  },
  {
   "cell_type": "code",
   "execution_count": null,
   "id": "7d3dd2bf",
   "metadata": {},
   "outputs": [],
   "source": []
  },
  {
   "cell_type": "code",
   "execution_count": null,
   "id": "749edf58",
   "metadata": {},
   "outputs": [],
   "source": []
  }
 ],
 "metadata": {
  "kernelspec": {
   "display_name": "Python 3 (ipykernel)",
   "language": "python",
   "name": "python3"
  },
  "language_info": {
   "codemirror_mode": {
    "name": "ipython",
    "version": 3
   },
   "file_extension": ".py",
   "mimetype": "text/x-python",
   "name": "python",
   "nbconvert_exporter": "python",
   "pygments_lexer": "ipython3",
   "version": "3.9.12"
  }
 },
 "nbformat": 4,
 "nbformat_minor": 5
}
